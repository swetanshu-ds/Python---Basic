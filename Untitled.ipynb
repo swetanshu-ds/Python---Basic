{
 "cells": [
  {
   "cell_type": "code",
   "execution_count": 5,
   "id": "207c74cb",
   "metadata": {},
   "outputs": [],
   "source": [
    "x=open('this.txt','w')"
   ]
  },
  {
   "cell_type": "code",
   "execution_count": 6,
   "id": "b30379bb",
   "metadata": {},
   "outputs": [
    {
     "data": {
      "text/plain": [
       "11"
      ]
     },
     "execution_count": 6,
     "metadata": {},
     "output_type": "execute_result"
    }
   ],
   "source": [
    "    x.write('hello world')"
   ]
  },
  {
   "cell_type": "code",
   "execution_count": 7,
   "id": "817c8725",
   "metadata": {},
   "outputs": [],
   "source": [
    "x.close()"
   ]
  },
  {
   "cell_type": "code",
   "execution_count": null,
   "id": "42e41991",
   "metadata": {},
   "outputs": [],
   "source": []
  }
 ],
 "metadata": {
  "kernelspec": {
   "display_name": "Python 3",
   "language": "python",
   "name": "python3"
  },
  "language_info": {
   "codemirror_mode": {
    "name": "ipython",
    "version": 3
   },
   "file_extension": ".py",
   "mimetype": "text/x-python",
   "name": "python",
   "nbconvert_exporter": "python",
   "pygments_lexer": "ipython3",
   "version": "3.8.8"
  }
 },
 "nbformat": 4,
 "nbformat_minor": 5
}
