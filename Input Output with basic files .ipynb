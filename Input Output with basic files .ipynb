{
 "cells": [
  {
   "cell_type": "code",
   "execution_count": 9,
   "id": "b311c498",
   "metadata": {},
   "outputs": [
    {
     "name": "stdout",
     "output_type": "stream",
     "text": [
      "Overwriting myfile.txt\n"
     ]
    }
   ],
   "source": [
    "%%writefile myfile.txt\n",
    "hello my name is swetanshu pandey \n",
    "I m studying in knit sultanpur \n",
    "I m in 2nd semester"
   ]
  },
  {
   "cell_type": "code",
   "execution_count": 14,
   "id": "5eee7a6e",
   "metadata": {},
   "outputs": [],
   "source": [
    "myfile=open('myfile.txt')"
   ]
  },
  {
   "cell_type": "code",
   "execution_count": 15,
   "id": "9bc769db",
   "metadata": {},
   "outputs": [
    {
     "data": {
      "text/plain": [
       "'F:\\\\data science\\\\python\\\\udemy'"
      ]
     },
     "execution_count": 15,
     "metadata": {},
     "output_type": "execute_result"
    }
   ],
   "source": [
    "pwd                                 #### it will show the current working directory of jupyter notebook"
   ]
  },
  {
   "cell_type": "code",
   "execution_count": 16,
   "id": "0d9ccb02",
   "metadata": {},
   "outputs": [
    {
     "data": {
      "text/plain": [
       "'hello my name is swetanshu pandey \\nI m studying in knit sultanpur \\nI m in 2nd semester\\n'"
      ]
     },
     "execution_count": 16,
     "metadata": {},
     "output_type": "execute_result"
    }
   ],
   "source": [
    "myfile.read()                  ####  \\n is representing the next line in this output"
   ]
  },
  {
   "cell_type": "code",
   "execution_count": 18,
   "id": "dcb2e748",
   "metadata": {},
   "outputs": [
    {
     "data": {
      "text/plain": [
       "''"
      ]
     },
     "execution_count": 18,
     "metadata": {},
     "output_type": "execute_result"
    }
   ],
   "source": [
    "myfile.read()                       ####  will not show anything because the cursor is dead now and we need to  get back again to the starting place where the myfile was assigned and need to execute it again"
   ]
  },
  {
   "cell_type": "code",
   "execution_count": 22,
   "id": "2ca7a3d1",
   "metadata": {},
   "outputs": [
    {
     "data": {
      "text/plain": [
       "0"
      ]
     },
     "execution_count": 22,
     "metadata": {},
     "output_type": "execute_result"
    }
   ],
   "source": [
    "####  bit 2nd way to do previous line is \n",
    "myfile.seek(0)"
   ]
  },
  {
   "cell_type": "code",
   "execution_count": 20,
   "id": "4c027ab5",
   "metadata": {},
   "outputs": [
    {
     "data": {
      "text/plain": [
       "'hello my name is swetanshu pandey \\nI m studying in knit sultanpur \\nI m in 2nd semester\\n'"
      ]
     },
     "execution_count": 20,
     "metadata": {},
     "output_type": "execute_result"
    }
   ],
   "source": [
    "myfile.read()"
   ]
  },
  {
   "cell_type": "code",
   "execution_count": 23,
   "id": "0e0c5b21",
   "metadata": {},
   "outputs": [
    {
     "data": {
      "text/plain": [
       "['hello my name is swetanshu pandey \\n',\n",
       " 'I m studying in knit sultanpur \\n',\n",
       " 'I m in 2nd semester\\n']"
      ]
     },
     "execution_count": 23,
     "metadata": {},
     "output_type": "execute_result"
    }
   ],
   "source": [
    "##### if we want to read our text line by line then we need to use below line function\n",
    "myfile.readlines()"
   ]
  },
  {
   "cell_type": "code",
   "execution_count": 24,
   "id": "e005b6fb",
   "metadata": {},
   "outputs": [
    {
     "data": {
      "text/plain": [
       "'F:\\\\data science\\\\python\\\\udemy'"
      ]
     },
     "execution_count": 24,
     "metadata": {},
     "output_type": "execute_result"
    }
   ],
   "source": [
    "pwd"
   ]
  },
  {
   "cell_type": "code",
   "execution_count": 25,
   "id": "e95c758b",
   "metadata": {},
   "outputs": [],
   "source": [
    "#### to open any txt file in python from your computer\n",
    "###  myfile=open(\"full address\")"
   ]
  },
  {
   "cell_type": "code",
   "execution_count": 26,
   "id": "952ad7d7",
   "metadata": {},
   "outputs": [],
   "source": [
    "#### after opened a file in python we always need tgo close it\n",
    "#### myfile.close()"
   ]
  },
  {
   "cell_type": "code",
   "execution_count": 27,
   "id": "c5397888",
   "metadata": {},
   "outputs": [],
   "source": [
    "### for not closing the file after it has opened once use the below code\n",
    "### with open(\"file name\") as assign new name:\n",
    "###            variable=assign new name.read()"
   ]
  },
  {
   "cell_type": "code",
   "execution_count": 28,
   "id": "4fb665fc",
   "metadata": {},
   "outputs": [],
   "source": [
    "with open(\"myfile.txt\",mode=\"r\") as myfile:                        ###  here we have used r so we can only read this file\n",
    "    c=myfile.read()                                         "
   ]
  },
  {
   "cell_type": "code",
   "execution_count": 30,
   "id": "d853cc17",
   "metadata": {},
   "outputs": [
    {
     "ename": "UnsupportedOperation",
     "evalue": "not readable",
     "output_type": "error",
     "traceback": [
      "\u001b[1;31m---------------------------------------------------------------------------\u001b[0m",
      "\u001b[1;31mUnsupportedOperation\u001b[0m                      Traceback (most recent call last)",
      "\u001b[1;32m<ipython-input-30-7eb3eefe31e8>\u001b[0m in \u001b[0;36m<module>\u001b[1;34m\u001b[0m\n\u001b[0;32m      1\u001b[0m \u001b[1;32mwith\u001b[0m \u001b[0mopen\u001b[0m\u001b[1;33m(\u001b[0m\u001b[1;34m\"myfile.txt\"\u001b[0m\u001b[1;33m,\u001b[0m\u001b[0mmode\u001b[0m\u001b[1;33m=\u001b[0m\u001b[1;34m\"w\"\u001b[0m\u001b[1;33m)\u001b[0m \u001b[1;32mas\u001b[0m \u001b[0mmyfile\u001b[0m\u001b[1;33m:\u001b[0m                        \u001b[1;31m### here we have used w so we can only write through this file but showing error is becuase we already choose to read this file before\u001b[0m\u001b[1;33m\u001b[0m\u001b[1;33m\u001b[0m\u001b[0m\n\u001b[1;32m----> 2\u001b[1;33m     \u001b[0mc\u001b[0m\u001b[1;33m=\u001b[0m\u001b[0mmyfile\u001b[0m\u001b[1;33m.\u001b[0m\u001b[0mread\u001b[0m\u001b[1;33m(\u001b[0m\u001b[1;33m)\u001b[0m\u001b[1;33m\u001b[0m\u001b[1;33m\u001b[0m\u001b[0m\n\u001b[0m",
      "\u001b[1;31mUnsupportedOperation\u001b[0m: not readable"
     ]
    }
   ],
   "source": [
    "with open(\"myfile.txt\",mode=\"w\") as myfile:                        ### here we have used w so we can only write through this file but showing error is becuase we already choose to read this file before\n",
    "    c=myfile.read()"
   ]
  },
  {
   "cell_type": "code",
   "execution_count": 31,
   "id": "5dc8e982",
   "metadata": {},
   "outputs": [],
   "source": [
    "# Reading,Writing,Appending modes\n",
    "#  mode r = is read only\n",
    "#  mode w is write only(will overwrite file or create new)\n",
    "#  mode a is append only (will add on to file)\n",
    "#   mode r is reading and writing\n",
    "#   mode w+ is writing and reading(overwrite existing file or  create a new file)"
   ]
  },
  {
   "cell_type": "code",
   "execution_count": 35,
   "id": "62209b47",
   "metadata": {},
   "outputs": [
    {
     "name": "stdout",
     "output_type": "stream",
     "text": [
      "Overwriting myfile.txt\n"
     ]
    }
   ],
   "source": [
    "%%writefile myfile.txt\n",
    "i m good\n",
    "i m supergood\n",
    "i m ultimate"
   ]
  },
  {
   "cell_type": "code",
   "execution_count": 36,
   "id": "8f33829b",
   "metadata": {},
   "outputs": [
    {
     "name": "stdout",
     "output_type": "stream",
     "text": [
      "i m good\n",
      "i m supergood\n",
      "i m ultimate\n",
      "\n"
     ]
    }
   ],
   "source": [
    "with open('myfile.txt',mode=\"r\") as f:\n",
    "    print(f.read())"
   ]
  },
  {
   "cell_type": "code",
   "execution_count": 39,
   "id": "7fb5a72c",
   "metadata": {},
   "outputs": [],
   "source": [
    "with open(\"myfile.txt\",mode=\"a\") as f:\n",
    "    f.write(\"\\ni m superb\")"
   ]
  },
  {
   "cell_type": "code",
   "execution_count": 38,
   "id": "86361a7d",
   "metadata": {},
   "outputs": [
    {
     "name": "stdout",
     "output_type": "stream",
     "text": [
      "i m good\n",
      "i m supergood\n",
      "i m ultimate\n",
      "i m superb\n"
     ]
    }
   ],
   "source": [
    "with open('myfile.txt',mode=\"r\") as f:\n",
    "    print(f.read())"
   ]
  },
  {
   "cell_type": "code",
   "execution_count": 40,
   "id": "a9dfbc20",
   "metadata": {},
   "outputs": [],
   "source": [
    "with open('jacnjanakmckls.txt',mode='w') as f:\n",
    "    f.write('I am from azamgarh')"
   ]
  },
  {
   "cell_type": "code",
   "execution_count": 42,
   "id": "0d55b764",
   "metadata": {},
   "outputs": [
    {
     "name": "stdout",
     "output_type": "stream",
     "text": [
      "I am from azamgarh\n"
     ]
    }
   ],
   "source": [
    "with open('jacnjanakmckls.txt',mode='r') as f:\n",
    "    print(f.read())"
   ]
  },
  {
   "cell_type": "code",
   "execution_count": null,
   "id": "9885fa72",
   "metadata": {},
   "outputs": [],
   "source": []
  }
 ],
 "metadata": {
  "kernelspec": {
   "display_name": "Python 3",
   "language": "python",
   "name": "python3"
  },
  "language_info": {
   "codemirror_mode": {
    "name": "ipython",
    "version": 3
   },
   "file_extension": ".py",
   "mimetype": "text/x-python",
   "name": "python",
   "nbconvert_exporter": "python",
   "pygments_lexer": "ipython3",
   "version": "3.8.8"
  }
 },
 "nbformat": 4,
 "nbformat_minor": 5
}
