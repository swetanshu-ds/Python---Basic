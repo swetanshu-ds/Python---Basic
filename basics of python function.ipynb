{
 "cells": [
  {
   "cell_type": "code",
   "execution_count": 2,
   "id": "e9ba69f4",
   "metadata": {},
   "outputs": [],
   "source": [
    "def say_hi():\n",
    "    print(\"hello\")"
   ]
  },
  {
   "cell_type": "code",
   "execution_count": 3,
   "id": "42a92aaa",
   "metadata": {},
   "outputs": [
    {
     "name": "stdout",
     "output_type": "stream",
     "text": [
      "hello\n"
     ]
    }
   ],
   "source": [
    "say_hi()"
   ]
  },
  {
   "cell_type": "code",
   "execution_count": 4,
   "id": "bf882ae1",
   "metadata": {},
   "outputs": [],
   "source": [
    "def say_hi():\n",
    "    print(\"hello\")\n",
    "    print(\"raj\")\n",
    "    print(\"pandey\")"
   ]
  },
  {
   "cell_type": "code",
   "execution_count": 5,
   "id": "ef4197b3",
   "metadata": {},
   "outputs": [
    {
     "name": "stdout",
     "output_type": "stream",
     "text": [
      "hello\n",
      "raj\n",
      "pandey\n"
     ]
    }
   ],
   "source": [
    "say_hi()"
   ]
  },
  {
   "cell_type": "code",
   "execution_count": 6,
   "id": "3b51bae0",
   "metadata": {},
   "outputs": [
    {
     "data": {
      "text/plain": [
       "<function __main__.say_hi()>"
      ]
     },
     "execution_count": 6,
     "metadata": {},
     "output_type": "execute_result"
    }
   ],
   "source": [
    "say_hi"
   ]
  },
  {
   "cell_type": "code",
   "execution_count": 8,
   "id": "62d21dad",
   "metadata": {},
   "outputs": [],
   "source": [
    "def say_hel(name):\n",
    "    print(f'hello {name}')"
   ]
  },
  {
   "cell_type": "code",
   "execution_count": 9,
   "id": "c44733b4",
   "metadata": {},
   "outputs": [
    {
     "name": "stdout",
     "output_type": "stream",
     "text": [
      "hello raj\n"
     ]
    }
   ],
   "source": [
    "say_hel(\"raj\")"
   ]
  },
  {
   "cell_type": "code",
   "execution_count": null,
   "id": "dbcc54cf",
   "metadata": {},
   "outputs": [],
   "source": [
    "def say_hel(name):\n",
    "    print(f'hello {name}')"
   ]
  },
  {
   "cell_type": "code",
   "execution_count": 11,
   "id": "ff53844f",
   "metadata": {},
   "outputs": [
    {
     "ename": "TypeError",
     "evalue": "say_hel() missing 1 required positional argument: 'name'",
     "output_type": "error",
     "traceback": [
      "\u001b[1;31m---------------------------------------------------------------------------\u001b[0m",
      "\u001b[1;31mTypeError\u001b[0m                                 Traceback (most recent call last)",
      "\u001b[1;32m<ipython-input-11-d8386e8bc253>\u001b[0m in \u001b[0;36m<module>\u001b[1;34m\u001b[0m\n\u001b[1;32m----> 1\u001b[1;33m \u001b[0msay_hel\u001b[0m\u001b[1;33m(\u001b[0m\u001b[1;33m)\u001b[0m                    \u001b[1;31m#### giving error\u001b[0m\u001b[1;33m\u001b[0m\u001b[1;33m\u001b[0m\u001b[0m\n\u001b[0m",
      "\u001b[1;31mTypeError\u001b[0m: say_hel() missing 1 required positional argument: 'name'"
     ]
    }
   ],
   "source": [
    "say_hel()                    #### giving error "
   ]
  },
  {
   "cell_type": "code",
   "execution_count": 13,
   "id": "a2b5fc79",
   "metadata": {},
   "outputs": [],
   "source": [
    "#  to not get error from the previous code do like this\n",
    "def say_hel(name=\"default\"):\n",
    "    print(f'hello {name}')"
   ]
  },
  {
   "cell_type": "code",
   "execution_count": 14,
   "id": "214a1070",
   "metadata": {},
   "outputs": [
    {
     "name": "stdout",
     "output_type": "stream",
     "text": [
      "hello default\n"
     ]
    }
   ],
   "source": [
    "say_hel()"
   ]
  },
  {
   "cell_type": "code",
   "execution_count": 16,
   "id": "e3991a18",
   "metadata": {},
   "outputs": [],
   "source": [
    "# difference between print and return is ---print directly print the output but return allows us \n",
    "#   to save the result in a varibale"
   ]
  },
  {
   "cell_type": "code",
   "execution_count": 17,
   "id": "865f0260",
   "metadata": {},
   "outputs": [],
   "source": [
    "def add(n1,n2):\n",
    "    return n1+n2"
   ]
  },
  {
   "cell_type": "code",
   "execution_count": 19,
   "id": "80b18073",
   "metadata": {},
   "outputs": [],
   "source": [
    "r=add(1,2)"
   ]
  },
  {
   "cell_type": "code",
   "execution_count": 20,
   "id": "b0b86fa7",
   "metadata": {},
   "outputs": [
    {
     "data": {
      "text/plain": [
       "3"
      ]
     },
     "execution_count": 20,
     "metadata": {},
     "output_type": "execute_result"
    }
   ],
   "source": [
    "r"
   ]
  },
  {
   "cell_type": "code",
   "execution_count": 21,
   "id": "f2fbcd31",
   "metadata": {},
   "outputs": [],
   "source": [
    "def printA(a,b):\n",
    "    print(a+b)"
   ]
  },
  {
   "cell_type": "code",
   "execution_count": 22,
   "id": "899ce238",
   "metadata": {},
   "outputs": [],
   "source": [
    "def returnN(a,b):\n",
    "    return a+b"
   ]
  },
  {
   "cell_type": "code",
   "execution_count": 24,
   "id": "f8c49fe0",
   "metadata": {},
   "outputs": [
    {
     "name": "stdout",
     "output_type": "stream",
     "text": [
      "3\n"
     ]
    }
   ],
   "source": [
    "A=printA(1,2)"
   ]
  },
  {
   "cell_type": "code",
   "execution_count": 30,
   "id": "372c70dc",
   "metadata": {},
   "outputs": [],
   "source": [
    "A                ###  NOT SHOWING ANY output"
   ]
  },
  {
   "cell_type": "code",
   "execution_count": 31,
   "id": "8d338fc4",
   "metadata": {},
   "outputs": [],
   "source": [
    "a=returnN(1,2)"
   ]
  },
  {
   "cell_type": "code",
   "execution_count": 32,
   "id": "5521c8ef",
   "metadata": {},
   "outputs": [
    {
     "data": {
      "text/plain": [
       "3"
      ]
     },
     "execution_count": 32,
     "metadata": {},
     "output_type": "execute_result"
    }
   ],
   "source": [
    "a"
   ]
  },
  {
   "cell_type": "code",
   "execution_count": 33,
   "id": "fb20959e",
   "metadata": {},
   "outputs": [],
   "source": [
    "def give(a,b):\n",
    "    print(a+b)\n",
    "    return(a+b)"
   ]
  },
  {
   "cell_type": "code",
   "execution_count": 34,
   "id": "2ee9da6f",
   "metadata": {},
   "outputs": [
    {
     "name": "stdout",
     "output_type": "stream",
     "text": [
      "3\n"
     ]
    },
    {
     "data": {
      "text/plain": [
       "3"
      ]
     },
     "execution_count": 34,
     "metadata": {},
     "output_type": "execute_result"
    }
   ],
   "source": [
    "give(1,2)"
   ]
  },
  {
   "cell_type": "code",
   "execution_count": 35,
   "id": "5db13a86",
   "metadata": {},
   "outputs": [
    {
     "name": "stdout",
     "output_type": "stream",
     "text": [
      "12\n"
     ]
    },
    {
     "data": {
      "text/plain": [
       "'12'"
      ]
     },
     "execution_count": 35,
     "metadata": {},
     "output_type": "execute_result"
    }
   ],
   "source": [
    "give(\"1\",\"2\")"
   ]
  },
  {
   "cell_type": "code",
   "execution_count": null,
   "id": "cec4b30e",
   "metadata": {},
   "outputs": [],
   "source": []
  }
 ],
 "metadata": {
  "kernelspec": {
   "display_name": "Python 3",
   "language": "python",
   "name": "python3"
  },
  "language_info": {
   "codemirror_mode": {
    "name": "ipython",
    "version": 3
   },
   "file_extension": ".py",
   "mimetype": "text/x-python",
   "name": "python",
   "nbconvert_exporter": "python",
   "pygments_lexer": "ipython3",
   "version": "3.8.8"
  }
 },
 "nbformat": 4,
 "nbformat_minor": 5
}
