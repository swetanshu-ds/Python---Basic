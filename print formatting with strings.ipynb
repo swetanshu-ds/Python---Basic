{
 "cells": [
  {
   "cell_type": "code",
   "execution_count": 1,
   "id": "e133bced",
   "metadata": {},
   "outputs": [
    {
     "name": "stdout",
     "output_type": "stream",
     "text": [
      "my name is swetanshu pandey\n"
     ]
    }
   ],
   "source": [
    "print('my name {} swetanshu {}'.format('is','pandey'))"
   ]
  },
  {
   "cell_type": "code",
   "execution_count": 2,
   "id": "5c5c0b90",
   "metadata": {},
   "outputs": [
    {
     "name": "stdout",
     "output_type": "stream",
     "text": [
      "this is here permanent\n"
     ]
    }
   ],
   "source": [
    "print('this {} {} {}'.format('is','here','permanent'))"
   ]
  },
  {
   "cell_type": "code",
   "execution_count": 4,
   "id": "f9c22afe",
   "metadata": {},
   "outputs": [
    {
     "name": "stdout",
     "output_type": "stream",
     "text": [
      "this permanent is here\n"
     ]
    }
   ],
   "source": [
    "print('this {2} {0} {1}'.format('is','here','permanent'))          ####   indexing can also be done using formatting"
   ]
  },
  {
   "cell_type": "code",
   "execution_count": 5,
   "id": "19bec0fc",
   "metadata": {},
   "outputs": [
    {
     "name": "stdout",
     "output_type": "stream",
     "text": [
      "this here here here\n"
     ]
    }
   ],
   "source": [
    "print('this {1} {1} {1}'.format('is','here','permanent'))"
   ]
  },
  {
   "cell_type": "code",
   "execution_count": 6,
   "id": "a853ba30",
   "metadata": {},
   "outputs": [
    {
     "name": "stdout",
     "output_type": "stream",
     "text": [
      "this here here here\n"
     ]
    }
   ],
   "source": [
    "print('this {h} {h} {h}'.format(i='is',h='here',p='permanent'))"
   ]
  },
  {
   "cell_type": "code",
   "execution_count": 8,
   "id": "0febfc76",
   "metadata": {},
   "outputs": [
    {
     "name": "stdout",
     "output_type": "stream",
     "text": [
      "this is here permanent\n"
     ]
    }
   ],
   "source": [
    "print('this {i} {h} {p}'.format(i='is',h='here',p='permanent'))"
   ]
  },
  {
   "cell_type": "code",
   "execution_count": 9,
   "id": "a8481738",
   "metadata": {},
   "outputs": [],
   "source": [
    "result=11111/99999"
   ]
  },
  {
   "cell_type": "code",
   "execution_count": 10,
   "id": "7e3e32b4",
   "metadata": {},
   "outputs": [
    {
     "data": {
      "text/plain": [
       "0.1111111111111111"
      ]
     },
     "execution_count": 10,
     "metadata": {},
     "output_type": "execute_result"
    }
   ],
   "source": [
    "result"
   ]
  },
  {
   "cell_type": "code",
   "execution_count": 12,
   "id": "f0a6aae4",
   "metadata": {},
   "outputs": [
    {
     "name": "stdout",
     "output_type": "stream",
     "text": [
      "this result was 0.1111111111111111\n"
     ]
    }
   ],
   "source": [
    "print('this result was {r}'.format(r=result))"
   ]
  },
  {
   "cell_type": "code",
   "execution_count": 15,
   "id": "45a72aed",
   "metadata": {},
   "outputs": [],
   "source": [
    "###  float formatting follows \"{value:width.precision f}\""
   ]
  },
  {
   "cell_type": "code",
   "execution_count": 13,
   "id": "242ae614",
   "metadata": {},
   "outputs": [
    {
     "name": "stdout",
     "output_type": "stream",
     "text": [
      "this result was 0.111111\n"
     ]
    }
   ],
   "source": [
    "print('this result was {r:3.6f}'.format(r=result))         "
   ]
  },
  {
   "cell_type": "code",
   "execution_count": 18,
   "id": "f3cc4720",
   "metadata": {},
   "outputs": [],
   "source": [
    "result=234/124"
   ]
  },
  {
   "cell_type": "code",
   "execution_count": 19,
   "id": "bf72837e",
   "metadata": {},
   "outputs": [
    {
     "data": {
      "text/plain": [
       "1.8870967741935485"
      ]
     },
     "execution_count": 19,
     "metadata": {},
     "output_type": "execute_result"
    }
   ],
   "source": [
    "result"
   ]
  },
  {
   "cell_type": "code",
   "execution_count": 25,
   "id": "88d4f106",
   "metadata": {},
   "outputs": [
    {
     "name": "stdout",
     "output_type": "stream",
     "text": [
      "this result was 1.887096774194\n"
     ]
    }
   ],
   "source": [
    "print('this result was {r:10.12f}'.format(r=result))"
   ]
  },
  {
   "cell_type": "code",
   "execution_count": 28,
   "id": "df7e5537",
   "metadata": {},
   "outputs": [],
   "source": [
    "name='raj'"
   ]
  },
  {
   "cell_type": "code",
   "execution_count": 29,
   "id": "a494bf9c",
   "metadata": {},
   "outputs": [
    {
     "name": "stdout",
     "output_type": "stream",
     "text": [
      "hello,my name is raj\n"
     ]
    }
   ],
   "source": [
    "print(f'hello,my name is {name}')"
   ]
  },
  {
   "cell_type": "code",
   "execution_count": 30,
   "id": "6a997af9",
   "metadata": {},
   "outputs": [],
   "source": [
    "name=\"raj\"\n",
    "age=67"
   ]
  },
  {
   "cell_type": "code",
   "execution_count": 31,
   "id": "748bba09",
   "metadata": {},
   "outputs": [
    {
     "name": "stdout",
     "output_type": "stream",
     "text": [
      "hello raj is 67\n"
     ]
    }
   ],
   "source": [
    "print(f'hello {name} is {age}')"
   ]
  },
  {
   "cell_type": "code",
   "execution_count": 1,
   "id": "f4af695c",
   "metadata": {},
   "outputs": [],
   "source": [
    "percentage_10='98.7'\n",
    "percentage_12='79'"
   ]
  },
  {
   "cell_type": "code",
   "execution_count": 3,
   "id": "50ebc5d4",
   "metadata": {},
   "outputs": [
    {
     "name": "stdout",
     "output_type": "stream",
     "text": [
      "my class 10 % was 98.7 and class 12 % was 79\n"
     ]
    }
   ],
   "source": [
    "print(f'my class 10 % was {percentage_10} and class 12 % was {percentage_12}')"
   ]
  },
  {
   "cell_type": "code",
   "execution_count": 13,
   "id": "e84dc650",
   "metadata": {},
   "outputs": [],
   "source": [
    "r=1.2342456"
   ]
  },
  {
   "cell_type": "code",
   "execution_count": 14,
   "id": "fb9d078c",
   "metadata": {},
   "outputs": [
    {
     "name": "stdout",
     "output_type": "stream",
     "text": [
      "1.234\n"
     ]
    }
   ],
   "source": [
    "print('{r:3.3f}'.format(r=r))"
   ]
  },
  {
   "cell_type": "code",
   "execution_count": 16,
   "id": "76067194",
   "metadata": {},
   "outputs": [
    {
     "name": "stdout",
     "output_type": "stream",
     "text": [
      "swet\n"
     ]
    }
   ],
   "source": [
    "print('{:.4}'.format('swetanshu'))"
   ]
  },
  {
   "cell_type": "code",
   "execution_count": 23,
   "id": "7b043d44",
   "metadata": {},
   "outputs": [
    {
     "name": "stdout",
     "output_type": "stream",
     "text": [
      "swet  \n"
     ]
    }
   ],
   "source": [
    "print('{:6.4}'.format('swetanshu'))"
   ]
  },
  {
   "cell_type": "code",
   "execution_count": 26,
   "id": "01efa63b",
   "metadata": {},
   "outputs": [
    {
     "name": "stdout",
     "output_type": "stream",
     "text": [
      " +10\n"
     ]
    }
   ],
   "source": [
    "print('{:+4}'.format(10))"
   ]
  },
  {
   "cell_type": "code",
   "execution_count": 27,
   "id": "ddd66143",
   "metadata": {},
   "outputs": [],
   "source": [
    "student={'raj':10,'swetanshu':12}"
   ]
  },
  {
   "cell_type": "code",
   "execution_count": 29,
   "id": "4a1516a5",
   "metadata": {},
   "outputs": [
    {
     "name": "stdout",
     "output_type": "stream",
     "text": [
      "10  12\n"
     ]
    }
   ],
   "source": [
    "print('{raj}  {swetanshu}'.format(**student))"
   ]
  },
  {
   "cell_type": "code",
   "execution_count": 30,
   "id": "da552bfc",
   "metadata": {},
   "outputs": [],
   "source": [
    "class Anime:\n",
    "    name=\"boruto\""
   ]
  },
  {
   "cell_type": "code",
   "execution_count": 32,
   "id": "9b2447e1",
   "metadata": {},
   "outputs": [
    {
     "name": "stdout",
     "output_type": "stream",
     "text": [
      "boruto\n"
     ]
    }
   ],
   "source": [
    "print('{a.name}'.format(a=Anime))"
   ]
  },
  {
   "cell_type": "code",
   "execution_count": null,
   "id": "81176ce6",
   "metadata": {},
   "outputs": [],
   "source": []
  }
 ],
 "metadata": {
  "kernelspec": {
   "display_name": "Python 3",
   "language": "python",
   "name": "python3"
  },
  "language_info": {
   "codemirror_mode": {
    "name": "ipython",
    "version": 3
   },
   "file_extension": ".py",
   "mimetype": "text/x-python",
   "name": "python",
   "nbconvert_exporter": "python",
   "pygments_lexer": "ipython3",
   "version": "3.8.8"
  }
 },
 "nbformat": 4,
 "nbformat_minor": 5
}
