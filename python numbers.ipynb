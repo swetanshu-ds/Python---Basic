{
 "cells": [
  {
   "cell_type": "code",
   "execution_count": 1,
   "id": "d8107dd5",
   "metadata": {},
   "outputs": [
    {
     "data": {
      "text/plain": [
       "1"
      ]
     },
     "execution_count": 1,
     "metadata": {},
     "output_type": "execute_result"
    }
   ],
   "source": [
    "2-1"
   ]
  },
  {
   "cell_type": "code",
   "execution_count": 2,
   "id": "eeef2c55",
   "metadata": {},
   "outputs": [
    {
     "data": {
      "text/plain": [
       "3"
      ]
     },
     "execution_count": 2,
     "metadata": {},
     "output_type": "execute_result"
    }
   ],
   "source": [
    "2+1"
   ]
  },
  {
   "cell_type": "code",
   "execution_count": 3,
   "id": "40f5a756",
   "metadata": {},
   "outputs": [
    {
     "data": {
      "text/plain": [
       "4"
      ]
     },
     "execution_count": 3,
     "metadata": {},
     "output_type": "execute_result"
    }
   ],
   "source": [
    "2*2"
   ]
  },
  {
   "cell_type": "code",
   "execution_count": 4,
   "id": "792c404a",
   "metadata": {},
   "outputs": [
    {
     "data": {
      "text/plain": [
       "1.5"
      ]
     },
     "execution_count": 4,
     "metadata": {},
     "output_type": "execute_result"
    }
   ],
   "source": [
    "3/2"
   ]
  },
  {
   "cell_type": "markdown",
   "id": "7ea4551d",
   "metadata": {},
   "source": [
    "#####  modulus or mod operator"
   ]
  },
  {
   "cell_type": "code",
   "execution_count": 5,
   "id": "de882b5a",
   "metadata": {},
   "outputs": [],
   "source": [
    "## it returns back the remainder after the division"
   ]
  },
  {
   "cell_type": "code",
   "execution_count": 6,
   "id": "60a98f95",
   "metadata": {},
   "outputs": [
    {
     "data": {
      "text/plain": [
       "3"
      ]
     },
     "execution_count": 6,
     "metadata": {},
     "output_type": "execute_result"
    }
   ],
   "source": [
    "7%4"
   ]
  },
  {
   "cell_type": "code",
   "execution_count": 7,
   "id": "992e9f95",
   "metadata": {},
   "outputs": [
    {
     "data": {
      "text/plain": [
       "0"
      ]
     },
     "execution_count": 7,
     "metadata": {},
     "output_type": "execute_result"
    }
   ],
   "source": [
    "50%5"
   ]
  },
  {
   "cell_type": "code",
   "execution_count": 11,
   "id": "23ffd2b8",
   "metadata": {},
   "outputs": [
    {
     "data": {
      "text/plain": [
       "1"
      ]
     },
     "execution_count": 11,
     "metadata": {},
     "output_type": "execute_result"
    }
   ],
   "source": [
    "23%2   ####  odd condition because when divided by 2 remainder comes 1 then only it is odd"
   ]
  },
  {
   "cell_type": "code",
   "execution_count": 12,
   "id": "cce0c14d",
   "metadata": {},
   "outputs": [
    {
     "data": {
      "text/plain": [
       "0"
      ]
     },
     "execution_count": 12,
     "metadata": {},
     "output_type": "execute_result"
    }
   ],
   "source": [
    "20%2    ###   even condition because when divided by 2 remainder comes 0 then only it is even"
   ]
  },
  {
   "cell_type": "code",
   "execution_count": 14,
   "id": "1ad9797e",
   "metadata": {},
   "outputs": [
    {
     "data": {
      "text/plain": [
       "8"
      ]
     },
     "execution_count": 14,
     "metadata": {},
     "output_type": "execute_result"
    }
   ],
   "source": [
    "2**3   ##   order operationm"
   ]
  },
  {
   "cell_type": "code",
   "execution_count": 16,
   "id": "6519cfa1",
   "metadata": {},
   "outputs": [
    {
     "data": {
      "text/plain": [
       "105"
      ]
     },
     "execution_count": 16,
     "metadata": {},
     "output_type": "execute_result"
    }
   ],
   "source": [
    "2+10*10+3"
   ]
  },
  {
   "cell_type": "code",
   "execution_count": 17,
   "id": "fe8e0c79",
   "metadata": {},
   "outputs": [
    {
     "data": {
      "text/plain": [
       "156"
      ]
     },
     "execution_count": 17,
     "metadata": {},
     "output_type": "execute_result"
    }
   ],
   "source": [
    "(2+10)*(10+3)"
   ]
  },
  {
   "cell_type": "code",
   "execution_count": 18,
   "id": "333b055a",
   "metadata": {},
   "outputs": [
    {
     "data": {
      "text/plain": [
       "2.68"
      ]
     },
     "execution_count": 18,
     "metadata": {},
     "output_type": "execute_result"
    }
   ],
   "source": [
    " round(2.6752,2)"
   ]
  },
  {
   "cell_type": "code",
   "execution_count": 19,
   "id": "07463463",
   "metadata": {},
   "outputs": [
    {
     "data": {
      "text/plain": [
       "2.67"
      ]
     },
     "execution_count": 19,
     "metadata": {},
     "output_type": "execute_result"
    }
   ],
   "source": [
    "round(2.672,2)"
   ]
  },
  {
   "cell_type": "code",
   "execution_count": 20,
   "id": "5e5a4406",
   "metadata": {},
   "outputs": [],
   "source": [
    "###  If you’re in a situation where you care which way your decimal halfway-cases are rounded, \n",
    "###  you should consider using the decimal module. Incidentally, the decimal module also provides a nice\n",
    "###   way to “see” the exact value that’s stored in any particular Python float"
   ]
  },
  {
   "cell_type": "code",
   "execution_count": 21,
   "id": "8c0e8ab5",
   "metadata": {},
   "outputs": [],
   "source": [
    "##  decimal is used to see exact value of float"
   ]
  },
  {
   "cell_type": "code",
   "execution_count": 22,
   "id": "9377d96b",
   "metadata": {},
   "outputs": [],
   "source": [
    "from decimal import Decimal"
   ]
  },
  {
   "cell_type": "code",
   "execution_count": 23,
   "id": "a04d7473",
   "metadata": {},
   "outputs": [
    {
     "data": {
      "text/plain": [
       "Decimal('2.78929999999999989057641869294457137584686279296875')"
      ]
     },
     "execution_count": 23,
     "metadata": {},
     "output_type": "execute_result"
    }
   ],
   "source": [
    "Decimal(2.7893)"
   ]
  },
  {
   "cell_type": "code",
   "execution_count": 24,
   "id": "38697a8f",
   "metadata": {},
   "outputs": [
    {
     "name": "stdout",
     "output_type": "stream",
     "text": [
      "0.9999999999999999\n"
     ]
    }
   ],
   "source": [
    "sum=0.0\n",
    "for i in range(10):\n",
    "    sum=sum+0.1\n",
    "    \n",
    "print(sum)    "
   ]
  },
  {
   "cell_type": "code",
   "execution_count": null,
   "id": "839dbd8a",
   "metadata": {},
   "outputs": [],
   "source": []
  }
 ],
 "metadata": {
  "kernelspec": {
   "display_name": "Python 3",
   "language": "python",
   "name": "python3"
  },
  "language_info": {
   "codemirror_mode": {
    "name": "ipython",
    "version": 3
   },
   "file_extension": ".py",
   "mimetype": "text/x-python",
   "name": "python",
   "nbconvert_exporter": "python",
   "pygments_lexer": "ipython3",
   "version": "3.8.8"
  }
 },
 "nbformat": 4,
 "nbformat_minor": 5
}
