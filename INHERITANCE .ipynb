{
 "cells": [
  {
   "cell_type": "markdown",
   "metadata": {},
   "source": [
    "##### in Example1 we have creaed a class with class variable but no __init__ method is there and no class function/method is there"
   ]
  },
  {
   "cell_type": "code",
   "execution_count": 3,
   "metadata": {},
   "outputs": [
    {
     "data": {
      "text/plain": [
       "'TTN'"
      ]
     },
     "execution_count": 3,
     "metadata": {},
     "output_type": "execute_result"
    }
   ],
   "source": [
    "#Example1\n",
    "class Student:   #class\n",
    "    School_Name = \"TTN\"   #class variable\n",
    "    Class       = \"X\"     #class variable\n",
    "    #no __init__method\n",
    "Jack = Student()  \n",
    "Jack.School_Name"
   ]
  },
  {
   "cell_type": "markdown",
   "metadata": {},
   "source": [
    "##### in Example2 we have creaed a class with no class variable but  __init__ method is there and no class function/method is there"
   ]
  },
  {
   "cell_type": "code",
   "execution_count": 5,
   "metadata": {},
   "outputs": [
    {
     "data": {
      "text/plain": [
       "'A'"
      ]
     },
     "execution_count": 5,
     "metadata": {},
     "output_type": "execute_result"
    }
   ],
   "source": [
    "#Example 2\n",
    "class Student1:\n",
    "    def __init__(self, x, y):\n",
    "        self.House    = x\n",
    "        self.Section  = y\n",
    "john = Student1(\"Red\", \"A\")\n",
    "john.Section      "
   ]
  },
  {
   "cell_type": "markdown",
   "metadata": {},
   "source": [
    "##### in Example3 we have creaed a class with no class variable no __init__ method is there but class function/method is there"
   ]
  },
  {
   "cell_type": "code",
   "execution_count": 10,
   "metadata": {},
   "outputs": [
    {
     "data": {
      "text/plain": [
       "'NewYork'"
      ]
     },
     "execution_count": 10,
     "metadata": {},
     "output_type": "execute_result"
    }
   ],
   "source": [
    "#Example3\n",
    "class Student2:\n",
    "    def get_address(self, z):  #class method\n",
    "        self.address = z \n",
    "        return self.address\n",
    "tom = Student2()\n",
    "tom.get_address(\"NewYork\")"
   ]
  },
  {
   "cell_type": "markdown",
   "metadata": {},
   "source": [
    "##### example 4 class variable, class method and init are there"
   ]
  },
  {
   "cell_type": "code",
   "execution_count": 16,
   "metadata": {},
   "outputs": [
    {
     "name": "stdout",
     "output_type": "stream",
     "text": [
      "Konoha Team7\n",
      "TTN X\n",
      "village of fire\n"
     ]
    }
   ],
   "source": [
    "#Example 4\n",
    "class Student4:\n",
    "    School_Name = \"TTN\"   #class variable\n",
    "    Class       = \"X\"     #class variable\n",
    "    def __init__(self, x, y):    # special /magic / dunder   \n",
    "        # x,y is localvariable\n",
    "        self.House    = x      #class Variable\n",
    "        self.Section  = y      #class Variable\n",
    "    def get_address(self, z):  #class method\n",
    "        self.address = z \n",
    "        return self.address\n",
    "\n",
    "Boruto = Student4(\"Konoha\", \"Team7\")\n",
    "print(Boruto.House, Boruto.Section)\n",
    "print(Boruto.School_Name, Boruto.Class)\n",
    "print(Boruto.get_address(\"village of fire\"))"
   ]
  },
  {
   "cell_type": "markdown",
   "metadata": {},
   "source": [
    "# Inheritance"
   ]
  },
  {
   "cell_type": "code",
   "execution_count": 17,
   "metadata": {},
   "outputs": [],
   "source": [
    "class Student:   #class\n",
    "    School_Name = \"TTN\"   #class variable\n",
    "    Class       = \"X\"     #class variable\n",
    "class StudentDetails:\n",
    "    Branch = \"Science\"   #class variable\n",
    "    Shift  = \"Morning\"   #class variable"
   ]
  },
  {
   "cell_type": "code",
   "execution_count": 21,
   "metadata": {},
   "outputs": [
    {
     "data": {
      "text/plain": [
       "'X'"
      ]
     },
     "execution_count": 21,
     "metadata": {},
     "output_type": "execute_result"
    }
   ],
   "source": [
    "Naruto = Student()\n",
    "Naruto.Class"
   ]
  },
  {
   "cell_type": "code",
   "execution_count": 23,
   "metadata": {},
   "outputs": [
    {
     "data": {
      "text/plain": [
       "'Science'"
      ]
     },
     "execution_count": 23,
     "metadata": {},
     "output_type": "execute_result"
    }
   ],
   "source": [
    "Boruto = StudentDetails()\n",
    "Boruto.Branch"
   ]
  },
  {
   "cell_type": "code",
   "execution_count": 1,
   "metadata": {},
   "outputs": [],
   "source": [
    "class Student:   #class\n",
    "    School_Name = \"TTN\"   #class variable\n",
    "    Class       = \"X\"     #class variable\n",
    "class StudentDetails(Student):\n",
    "    Branch = \"Science\"   #class variable\n",
    "    Shift  = \"Morning\"   #class variable"
   ]
  },
  {
   "cell_type": "code",
   "execution_count": 3,
   "metadata": {},
   "outputs": [
    {
     "data": {
      "text/plain": [
       "'X'"
      ]
     },
     "execution_count": 3,
     "metadata": {},
     "output_type": "execute_result"
    }
   ],
   "source": [
    "Himavari = StudentDetails()\n",
    "Himavari.Class"
   ]
  },
  {
   "cell_type": "code",
   "execution_count": 28,
   "metadata": {},
   "outputs": [],
   "source": [
    "class Naruto:\n",
    "    hair = \"Yellow\"\n",
    "    location = \"Konoha\"\n",
    "class Boruto:\n",
    "    age = 10\n",
    "    move = \"kara\"\n",
    "\n"
   ]
  },
  {
   "cell_type": "code",
   "execution_count": 29,
   "metadata": {},
   "outputs": [
    {
     "data": {
      "text/plain": [
       "'kara'"
      ]
     },
     "execution_count": 29,
     "metadata": {},
     "output_type": "execute_result"
    }
   ],
   "source": [
    "a = Boruto()\n",
    "a.move"
   ]
  },
  {
   "cell_type": "code",
   "execution_count": 31,
   "metadata": {},
   "outputs": [
    {
     "data": {
      "text/plain": [
       "'Yellow'"
      ]
     },
     "execution_count": 31,
     "metadata": {},
     "output_type": "execute_result"
    }
   ],
   "source": [
    "b = Naruto()\n",
    "b.hair"
   ]
  },
  {
   "cell_type": "code",
   "execution_count": 32,
   "metadata": {},
   "outputs": [],
   "source": [
    "class Naruto:   #parent class\n",
    "    hair = \"Yellow\"\n",
    "    location = \"Konoha\"\n",
    "class Boruto(Naruto):   #child class\n",
    "    age = 10\n",
    "    move = \"kara\"\n",
    "\n"
   ]
  },
  {
   "cell_type": "code",
   "execution_count": 34,
   "metadata": {},
   "outputs": [
    {
     "data": {
      "text/plain": [
       "'Yellow'"
      ]
     },
     "execution_count": 34,
     "metadata": {},
     "output_type": "execute_result"
    }
   ],
   "source": [
    "c =Boruto()\n",
    "c.hair"
   ]
  },
  {
   "cell_type": "markdown",
   "metadata": {},
   "source": [
    "# Types of Inheritance\n",
    "- Simple Inheritance        (class a-------class b or class x ---- class y)\n",
    "- Multilevel Inheritance    (class a-----class b ---- class c)\n",
    "- Multiple Inheritance      (class a-----class b and class c ----class b)\n",
    "- hybrid Inheritance        (More than one type of Inheritance)\n",
    "- Hierarchical  Inheritance      (Multiple child class from same parent class)"
   ]
  },
  {
   "cell_type": "markdown",
   "metadata": {},
   "source": [
    "## Simple Inheritance"
   ]
  },
  {
   "cell_type": "code",
   "execution_count": 51,
   "metadata": {},
   "outputs": [
    {
     "data": {
      "text/plain": [
       "'Berlin'"
      ]
     },
     "execution_count": 51,
     "metadata": {},
     "output_type": "execute_result"
    }
   ],
   "source": [
    "#Simple Inheritance\n",
    "# Example 1\n",
    "class Automobile:\n",
    "    country = \"Germany\"\n",
    "    def __init__(self, typeof , source):\n",
    "        self.typeof = typeof\n",
    "        self.source = source\n",
    "    \n",
    "    def automobiledetails(self, city):\n",
    "        self.city = city\n",
    "        return self.city\n",
    "    \n",
    "class owner(Automobile):\n",
    "    def __init__(self, ownername):\n",
    "        self.ownername = ownername\n",
    "        \n",
    "    def ownerdetails(self, age):\n",
    "        self.age = age\n",
    "        return self.age, self.ownername\n",
    "person1 = owner(\"Mr. Saltzman\") \n",
    "person1.automobiledetails(\"Berlin\")\n"
   ]
  },
  {
   "cell_type": "code",
   "execution_count": 58,
   "metadata": {},
   "outputs": [
    {
     "data": {
      "text/plain": [
       "'raghav'"
      ]
     },
     "execution_count": 58,
     "metadata": {},
     "output_type": "execute_result"
    }
   ],
   "source": [
    "class Aeroplane:\n",
    "    country = \"India\"\n",
    "    def __init__(self,company_name):\n",
    "        self.company_name = company_name\n",
    "        \n",
    "class customer(Aeroplane):\n",
    "    def __init__(self,customer_name):\n",
    "        self.customer_name = customer_name\n",
    "        \n",
    "person1 = customer(\"raghav\") \n",
    "person1.country\n",
    "person1.customer_name"
   ]
  },
  {
   "cell_type": "markdown",
   "metadata": {},
   "source": [
    "## Multilevel Inheritance"
   ]
  },
  {
   "cell_type": "code",
   "execution_count": 95,
   "metadata": {},
   "outputs": [
    {
     "name": "stdout",
     "output_type": "stream",
     "text": [
      "10000000\n",
      "Azamgarh None\n"
     ]
    }
   ],
   "source": [
    "class School:\n",
    "    District = \"Azamgarh\"\n",
    "    def __init__(self, schoolname):\n",
    "        self.schoolname = schoolname\n",
    "        \n",
    "    def schooldetails(self, address):\n",
    "        self.address = address\n",
    "        print(self.address)\n",
    "class Student(School):\n",
    "    def __init__(self, studentname):\n",
    "        self.studentname = studentname\n",
    "        \n",
    "    def studentdetails(self, standard):\n",
    "        self.standard = standard\n",
    "        print(self.standard)\n",
    "class Parent(Student):\n",
    "    def __init__(self, parentname):\n",
    "        self.parentname = parentname\n",
    "        \n",
    "    def parentdetails(self, income):\n",
    "        self.income = income\n",
    "        print(self.income)\n",
    "        \n",
    "parent1 = Parent(\"Mr RobertBrown\")\n",
    "print(parent1.District, parent1.parentdetails(10000000))\n"
   ]
  },
  {
   "cell_type": "code",
   "execution_count": 96,
   "metadata": {},
   "outputs": [],
   "source": [
    "class Anime:\n",
    "    Country = \"Japan\"\n",
    "    def __init__(self,Anime_name):\n",
    "        self.Anime_name = Anime_name\n",
    "        \n",
    "    def   origin_year(self,year):\n",
    "        self.year = year\n",
    "        return self.year\n",
    "class Naruto(Anime):\n",
    "    def __init__(self,hair_color):\n",
    "        self.hair_color  = hair_color\n",
    "    def education(self,education):\n",
    "        self.education = education\n",
    "        print(self.education)\n",
    "class Boruto(Naruto):\n",
    "    def __init__(self,eye_color):\n",
    "        self.eye_color = eye_color\n",
    "    def Home(self,Home):\n",
    "        self.Home = Home\n",
    "        print(self.Home)\n",
    "person1 = Boruto(\"blue\")   \n"
   ]
  },
  {
   "cell_type": "markdown",
   "metadata": {},
   "source": [
    "# Multiple Inheritance"
   ]
  },
  {
   "cell_type": "code",
   "execution_count": 38,
   "metadata": {},
   "outputs": [
    {
     "data": {
      "text/plain": [
       "('Amazon', 'Jeff')"
      ]
     },
     "execution_count": 38,
     "metadata": {},
     "output_type": "execute_result"
    }
   ],
   "source": [
    "class fbuser:\n",
    "    def __init__(self,uname):\n",
    "        self.uname = uname\n",
    "    def userconfidential(self, uname, password):\n",
    "        return password , uname\n",
    " \n",
    "class fbemp:\n",
    "    def __init__(self,empname):\n",
    "        self.empname = empname\n",
    "    def empconfidential(self, salary):\n",
    "        return salary\n",
    "class fb(fbuser,fbemp):\n",
    "    fullname = \"Facebook\"\n",
    "    def __init__(self,income):\n",
    "        self.income = income\n",
    "    def fbofficedetails(self, city):\n",
    "        return city\n",
    "\n",
    "info1 = fb(\"$10 B\")\n",
    "info1.userconfidential(\"Jeff\" , \"Amazon\")"
   ]
  },
  {
   "cell_type": "raw",
   "metadata": {},
   "source": [
    "order = \n",
    "\n",
    "\n",
    "         1. init of child class \n",
    "         #  when init of child class is executed then or if init of child class is not given then init of  init of parent class will be executed  \n",
    "         2. init of Parent class\n",
    "         #  when init of parent class is executed then or   if init of parent class is not there then execute the class method or class variable of child class      \n",
    "         3. class variable / class method of child class\n",
    "         #  when class variable / class method of child class  or  class variable / class method of child class is not there then execute  class variable / class method of Parent class\n",
    "         4. class variable / class method of Parent class\n",
    "            "
   ]
  },
  {
   "cell_type": "code",
   "execution_count": 45,
   "metadata": {},
   "outputs": [
    {
     "data": {
      "text/plain": [
       "'Land'"
      ]
     },
     "execution_count": 45,
     "metadata": {},
     "output_type": "execute_result"
    }
   ],
   "source": [
    "#Example 2\n",
    "class Automobile:\n",
    "    country = \"Germany\"\n",
    "    def __init__(self, typeof , source):\n",
    "        self.typeof = typeof\n",
    "        self.source = source\n",
    "    \n",
    "    def automobiledetails(self, city):\n",
    "        self.city = city\n",
    "        return self.city\n",
    "    \n",
    "class owner(Automobile):\n",
    "    \n",
    "        \n",
    "    def ownerdetails(self, age):\n",
    "        self.age = age\n",
    "        return self.age\n",
    "    \n",
    "person1 = owner(\"Land\", \"Diesel\") \n",
    "person1.ownerdetails(23)\n"
   ]
  },
  {
   "cell_type": "code",
   "execution_count": 21,
   "metadata": {},
   "outputs": [
    {
     "data": {
      "text/plain": [
       "'Berlin'"
      ]
     },
     "execution_count": 21,
     "metadata": {},
     "output_type": "execute_result"
    }
   ],
   "source": [
    "#Example 3\n",
    "class Automobile:\n",
    "    country = \"Germany\"\n",
    "    \n",
    "    \n",
    "    def automobiledetails(self, city):\n",
    "        self.city = city\n",
    "        return self.city\n",
    "    \n",
    "class owner(Automobile):\n",
    "    \n",
    "        \n",
    "    def ownerdetails(self, age):\n",
    "        self.age = age\n",
    "        return self.age\n",
    "    \n",
    "person1 = owner()\n",
    "person1.automobiledetails(\"Berlin\")"
   ]
  },
  {
   "cell_type": "code",
   "execution_count": 111,
   "metadata": {},
   "outputs": [
    {
     "name": "stdout",
     "output_type": "stream",
     "text": [
      "the person drives the car\n"
     ]
    }
   ],
   "source": [
    "##   all the class variables are public\n",
    "class Car:\n",
    "       def __init__(self,windows,doors,enginetype):\n",
    "            self.windows = windows\n",
    "            self.doors = doors\n",
    "            self.enginetype = enginetype\n",
    "       def drive(self):\n",
    "            print(\"the person drives the car\")\n",
    "car = Car(4,5,\"diesel\")           \n",
    "dir(car)  #####  ------shows all the public variables\n",
    "car.drive()"
   ]
  },
  {
   "cell_type": "markdown",
   "metadata": {},
   "source": [
    "#  hierarchical inheritance"
   ]
  },
  {
   "cell_type": "code",
   "execution_count": 123,
   "metadata": {},
   "outputs": [],
   "source": [
    "class Parentclassname:\n",
    "    def __init__(self):\n",
    "        print(\"I am parent class\")\n",
    "    \n",
    "    def showP(self):\n",
    "        print(\"I am parent\")\n",
    "class child1(Parentclassname):\n",
    "    def __init__(self):\n",
    "        print(\"I am child1 class\")\n",
    "    \n",
    "    def showC1(self):    \n",
    "        print(\"I am child1\")\n",
    "class child2(Parentclassname):\n",
    "     def __init__(self):\n",
    "        print(\"I am child2 class\")\n",
    "    \n",
    "    \n",
    "     def showC2(self):\n",
    "        print(\" I am child 2\")\n",
    "     "
   ]
  },
  {
   "cell_type": "raw",
   "metadata": {},
   "source": [
    "\n",
    "\n",
    "******************************************************Super()**************************************************************\n",
    "\n"
   ]
  },
  {
   "cell_type": "markdown",
   "metadata": {},
   "source": [
    "# super()"
   ]
  },
  {
   "cell_type": "code",
   "execution_count": 50,
   "metadata": {},
   "outputs": [
    {
     "data": {
      "text/plain": [
       "True"
      ]
     },
     "execution_count": 50,
     "metadata": {},
     "output_type": "execute_result"
    }
   ],
   "source": [
    "class Animals:\n",
    "     \n",
    "    # Initializing constructor\n",
    "    def __init__(self):\n",
    "        self.legs = 4\n",
    "        self.domestic = True\n",
    "        self.tail = True\n",
    "        self.mammals = True\n",
    "     \n",
    "    def isMammal(self):\n",
    "        if self.mammals:\n",
    "            print(\"It is a mammal.\")\n",
    "     \n",
    "    def isDomestic(self):\n",
    "        if self.domestic:\n",
    "            print(\"It is a domestic animal.\")\n",
    "     \n",
    "class Dogs(Animals):\n",
    "    def __init__(self):\n",
    "        super().__init__()\n",
    " \n",
    "    \n",
    " \n",
    "\n",
    "# Driver code\n",
    "Tom = Dogs()\n",
    "Tom.tail\n"
   ]
  },
  {
   "cell_type": "code",
   "execution_count": 1,
   "metadata": {},
   "outputs": [],
   "source": [
    "# super denotes Parent class \n",
    "# used to inherit function/methods or varibles of Parent class"
   ]
  },
  {
   "cell_type": "code",
   "execution_count": 13,
   "metadata": {},
   "outputs": [
    {
     "name": "stdout",
     "output_type": "stream",
     "text": [
      "India Ben10\n"
     ]
    },
    {
     "ename": "AttributeError",
     "evalue": "'Country' object has no attribute 'favcartoon'",
     "output_type": "error",
     "traceback": [
      "\u001b[1;31m---------------------------------------------------------------------------\u001b[0m",
      "\u001b[1;31mAttributeError\u001b[0m                            Traceback (most recent call last)",
      "\u001b[1;32m<ipython-input-13-89b69f9adb10>\u001b[0m in \u001b[0;36m<module>\u001b[1;34m\u001b[0m\n\u001b[0;32m     10\u001b[0m \u001b[0mC\u001b[0m \u001b[1;33m=\u001b[0m \u001b[0mCountry\u001b[0m\u001b[1;33m(\u001b[0m\u001b[1;34m\"India\"\u001b[0m\u001b[1;33m,\u001b[0m \u001b[1;34m\"Ben10\"\u001b[0m\u001b[1;33m)\u001b[0m\u001b[1;33m\u001b[0m\u001b[1;33m\u001b[0m\u001b[0m\n\u001b[0;32m     11\u001b[0m \u001b[0mprint\u001b[0m\u001b[1;33m(\u001b[0m\u001b[0mC\u001b[0m\u001b[1;33m.\u001b[0m\u001b[0mcountry\u001b[0m\u001b[1;33m,\u001b[0m \u001b[0mC\u001b[0m\u001b[1;33m.\u001b[0m\u001b[0mcartoon\u001b[0m\u001b[1;33m)\u001b[0m\u001b[1;33m\u001b[0m\u001b[1;33m\u001b[0m\u001b[0m\n\u001b[1;32m---> 12\u001b[1;33m \u001b[0mC\u001b[0m\u001b[1;33m.\u001b[0m\u001b[0mfavcartoon\u001b[0m \u001b[1;31m# this will throw error\u001b[0m\u001b[1;33m\u001b[0m\u001b[1;33m\u001b[0m\u001b[0m\n\u001b[0m\u001b[0;32m     13\u001b[0m \u001b[1;31m#reason:  Until and unless we dont execute __init__() of the class we dont get the class variable\u001b[0m\u001b[1;33m\u001b[0m\u001b[1;33m\u001b[0m\u001b[1;33m\u001b[0m\u001b[0m\n",
      "\u001b[1;31mAttributeError\u001b[0m: 'Country' object has no attribute 'favcartoon'"
     ]
    }
   ],
   "source": [
    "class Cartoon:\n",
    "    def __init__(self):\n",
    "        self.channel = \"CN\"\n",
    "        self.favcartoon = \"TomJerry\"\n",
    "class Country(Cartoon):\n",
    "    def __init__(self , Country, cartoon):   \n",
    "        self.country = Country\n",
    "        self.cartoon = cartoon\n",
    "        \n",
    "C = Country(\"India\", \"Ben10\")\n",
    "print(C.country, C.cartoon)\n",
    "C.favcartoon # this will throw error \n",
    "#reason:  Until and unless we dont execute __init__() of the class we dont get the class variable"
   ]
  },
  {
   "cell_type": "code",
   "execution_count": 14,
   "metadata": {},
   "outputs": [
    {
     "name": "stdout",
     "output_type": "stream",
     "text": [
      "India Ben10\n"
     ]
    },
    {
     "data": {
      "text/plain": [
       "('TomJerry', 'CN')"
      ]
     },
     "execution_count": 14,
     "metadata": {},
     "output_type": "execute_result"
    }
   ],
   "source": [
    "class Cartoon1:\n",
    "    def __init__(self):\n",
    "        self.channel = \"CN\"\n",
    "        self.favcartoon = \"TomJerry\"\n",
    "class Country1(Cartoon1):\n",
    "    def __init__(self , Country, cartoon):\n",
    "        super().__init__()\n",
    "        self.country = Country\n",
    "        self.cartoon = cartoon\n",
    "        \n",
    "C1 = Country1(\"India\", \"Ben10\")\n",
    "print(C1.country, C1.cartoon)\n",
    "C1.favcartoon, C1.channel"
   ]
  },
  {
   "cell_type": "raw",
   "metadata": {},
   "source": [
    "\n",
    "       \n",
    "        \n",
    "\n",
    "\n"
   ]
  },
  {
   "cell_type": "markdown",
   "metadata": {},
   "source": [
    "# Overriding Concept:\n",
    "- Example1----- super().__init__() is at the bottom\n",
    "- Example2----- super().__init__() is at the top\n"
   ]
  },
  {
   "cell_type": "code",
   "execution_count": 45,
   "metadata": {},
   "outputs": [
    {
     "data": {
      "text/plain": [
       "'CN'"
      ]
     },
     "execution_count": 45,
     "metadata": {},
     "output_type": "execute_result"
    }
   ],
   "source": [
    "#Example1\n",
    "class Cartoon3:\n",
    "    def __init__(self):\n",
    "        self.Channel = \"CN\"\n",
    "        self.favcartoon = \"TomJerry\"\n",
    "        \n",
    "class Country3(Cartoon3):\n",
    "    def __init__(self):\n",
    "        self.Channel = \"CartoonNetwork\"\n",
    "        self.favcartoon = \"Pokemon\"\n",
    "        \n",
    "        super().__init__()   #executing __init__() of parent class\n",
    "        \n",
    "C3 = Country3()\n",
    "C3.Channel"
   ]
  },
  {
   "cell_type": "code",
   "execution_count": 47,
   "metadata": {},
   "outputs": [
    {
     "data": {
      "text/plain": [
       "'CartoonNetwork'"
      ]
     },
     "execution_count": 47,
     "metadata": {},
     "output_type": "execute_result"
    }
   ],
   "source": [
    "#Example2\n",
    "class Cartoon3:\n",
    "    def __init__(self):\n",
    "        self.Channel = \"CN\"\n",
    "        self.favcartoon = \"TomJerry\"\n",
    "        \n",
    "class Country3(Cartoon3):\n",
    "    def __init__(self):\n",
    "        super().__init__()   #executing __init__() of parent class\n",
    "        self.Channel = \"CartoonNetwork\"\n",
    "        self.favcartoon = \"Pokemon\"\n",
    "        \n",
    "        \n",
    "        \n",
    "C3 = Country3()\n",
    "C3.Channel"
   ]
  },
  {
   "cell_type": "code",
   "execution_count": 53,
   "metadata": {},
   "outputs": [
    {
     "name": "stdout",
     "output_type": "stream",
     "text": [
      "India\n"
     ]
    }
   ],
   "source": [
    "#exampl3:\n",
    "# method Overloading\n",
    "\n",
    "class Cartoon2:\n",
    "    def __init__(self, country):\n",
    "        self.country = country\n",
    "    \n",
    "    def getChannel(self):\n",
    "        self.country = \"Pakistan\"\n",
    "        print(self.country)\n",
    "      \n",
    "class Country2(Cartoon2):\n",
    "    def __init__(self ,cartoon):\n",
    "        self.cartoon = cartoon\n",
    "        \n",
    "    def getChannel(self):\n",
    "        self.country = \"India\"\n",
    "        print(self.country)\n",
    "\n",
    "c4 = Country2(\"TomJerry\")\n",
    "c4.getChannel()\n",
    "        "
   ]
  },
  {
   "cell_type": "code",
   "execution_count": 55,
   "metadata": {},
   "outputs": [
    {
     "name": "stdout",
     "output_type": "stream",
     "text": [
      "Pakistan\n",
      "Pakistan\n"
     ]
    }
   ],
   "source": [
    "#exampl4:\n",
    "# method Overloading\n",
    "\n",
    "class Cartoon2:\n",
    "    def __init__(self, country):\n",
    "        self.country = country\n",
    "    \n",
    "    def getChannel(self):\n",
    "        self.country = \"Pakistan\"\n",
    "        print(self.country)\n",
    "      \n",
    "class Country2(Cartoon2):\n",
    "    def __init__(self ,cartoon):\n",
    "        self.cartoon = cartoon\n",
    "        \n",
    "    def getChannel(self):\n",
    "        self.country = \"India\"\n",
    "        super().getChannel()\n",
    "        print(self.country)\n",
    "\n",
    "c4 = Country2(\"TomJerry\")\n",
    "c4.getChannel()"
   ]
  },
  {
   "cell_type": "code",
   "execution_count": 56,
   "metadata": {},
   "outputs": [
    {
     "name": "stdout",
     "output_type": "stream",
     "text": [
      "Pakistan\n",
      "India\n"
     ]
    }
   ],
   "source": [
    "#exampl4:\n",
    "# method Overloading\n",
    "\n",
    "class Cartoon2:\n",
    "    def __init__(self, country):\n",
    "        self.country = country\n",
    "    \n",
    "    def getChannel(self):\n",
    "        self.country = \"Pakistan\"\n",
    "        print(self.country)\n",
    "      \n",
    "class Country2(Cartoon2):\n",
    "    def __init__(self ,cartoon):\n",
    "        self.cartoon = cartoon\n",
    "        \n",
    "    def getChannel(self):\n",
    "        super().getChannel()\n",
    "        self.country = \"India\"\n",
    "        \n",
    "        print(self.country)\n",
    "\n",
    "c4 = Country2(\"TomJerry\")\n",
    "c4.getChannel()"
   ]
  },
  {
   "cell_type": "code",
   "execution_count": 63,
   "metadata": {},
   "outputs": [
    {
     "name": "stdout",
     "output_type": "stream",
     "text": [
      "FeMale\n",
      "Male\n"
     ]
    },
    {
     "data": {
      "text/plain": [
       "(None, None)"
      ]
     },
     "execution_count": 63,
     "metadata": {},
     "output_type": "execute_result"
    }
   ],
   "source": [
    "#easy\n",
    "\n",
    "class Person:\n",
    "    def getGender(self,gend):\n",
    "        print(gend)\n",
    "class Male(Person):\n",
    "    def getGender(self):\n",
    "        self.gender = \"Male\"\n",
    "        super().getGender(self.gender)\n",
    "        \n",
    "class Female(Person):\n",
    "    def getGender(self):\n",
    "        self.gender = \"FeMale\"\n",
    "        super().getGender(self.gender)\n",
    "f1 = Female()\n",
    "m1 = Male()\n",
    "f1.getGender(), m1.getGender()"
   ]
  },
  {
   "cell_type": "code",
   "execution_count": null,
   "metadata": {},
   "outputs": [],
   "source": [
    "    "
   ]
  }
 ],
 "metadata": {
  "kernelspec": {
   "display_name": "Python 3",
   "language": "python",
   "name": "python3"
  },
  "language_info": {
   "codemirror_mode": {
    "name": "ipython",
    "version": 3
   },
   "file_extension": ".py",
   "mimetype": "text/x-python",
   "name": "python",
   "nbconvert_exporter": "python",
   "pygments_lexer": "ipython3",
   "version": "3.8.5"
  }
 },
 "nbformat": 4,
 "nbformat_minor": 5
}
