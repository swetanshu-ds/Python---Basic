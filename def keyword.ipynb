{
 "cells": [
  {
   "cell_type": "code",
   "execution_count": 1,
   "id": "d6b4bfee",
   "metadata": {},
   "outputs": [],
   "source": [
    "#  def =definition"
   ]
  },
  {
   "cell_type": "code",
   "execution_count": 8,
   "id": "55f6c068",
   "metadata": {},
   "outputs": [],
   "source": [
    "def name_of_function():\n",
    "    pass      ##### name_of_function is snake casing means --- all lowercase with underscores between words"
   ]
  },
  {
   "cell_type": "code",
   "execution_count": 9,
   "id": "1949ac02",
   "metadata": {},
   "outputs": [],
   "source": [
    "#  snake casing means --- all lowercase with underscores between words"
   ]
  },
  {
   "cell_type": "code",
   "execution_count": 10,
   "id": "0a87c8f0",
   "metadata": {},
   "outputs": [],
   "source": [
    "def name_of_function():\n",
    "    print(\"hello\")"
   ]
  },
  {
   "cell_type": "code",
   "execution_count": 13,
   "id": "f239a842",
   "metadata": {},
   "outputs": [],
   "source": [
    "def name_of_function(name):\n",
    "    print(\" hello \"+name)"
   ]
  },
  {
   "cell_type": "code",
   "execution_count": 14,
   "id": "b8840e60",
   "metadata": {},
   "outputs": [
    {
     "name": "stdout",
     "output_type": "stream",
     "text": [
      " hello raj\n"
     ]
    }
   ],
   "source": [
    "name_of_function(\"raj\")"
   ]
  },
  {
   "cell_type": "code",
   "execution_count": 15,
   "id": "f2bc85b9",
   "metadata": {},
   "outputs": [],
   "source": [
    "def add_function(num1,num2):\n",
    "    return num1+num2"
   ]
  },
  {
   "cell_type": "code",
   "execution_count": 16,
   "id": "6e481bb6",
   "metadata": {},
   "outputs": [],
   "source": [
    "result =add_function(1,2)"
   ]
  },
  {
   "cell_type": "code",
   "execution_count": 18,
   "id": "4e1eb10c",
   "metadata": {},
   "outputs": [
    {
     "name": "stdout",
     "output_type": "stream",
     "text": [
      "3\n"
     ]
    }
   ],
   "source": [
    "print(result)"
   ]
  },
  {
   "cell_type": "code",
   "execution_count": null,
   "id": "8268388c",
   "metadata": {},
   "outputs": [],
   "source": []
  }
 ],
 "metadata": {
  "kernelspec": {
   "display_name": "Python 3",
   "language": "python",
   "name": "python3"
  },
  "language_info": {
   "codemirror_mode": {
    "name": "ipython",
    "version": 3
   },
   "file_extension": ".py",
   "mimetype": "text/x-python",
   "name": "python",
   "nbconvert_exporter": "python",
   "pygments_lexer": "ipython3",
   "version": "3.8.8"
  }
 },
 "nbformat": 4,
 "nbformat_minor": 5
}
