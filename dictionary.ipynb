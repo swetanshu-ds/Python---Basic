{
 "cells": [
  {
   "cell_type": "code",
   "execution_count": 1,
   "id": "69f37817",
   "metadata": {},
   "outputs": [],
   "source": [
    "di={'key1':'value1','key2':'value2'}"
   ]
  },
  {
   "cell_type": "code",
   "execution_count": 4,
   "id": "43c884df",
   "metadata": {},
   "outputs": [
    {
     "data": {
      "text/plain": [
       "{'key1': 'value1', 'key2': 'value2'}"
      ]
     },
     "execution_count": 4,
     "metadata": {},
     "output_type": "execute_result"
    }
   ],
   "source": [
    "di"
   ]
  },
  {
   "cell_type": "code",
   "execution_count": 6,
   "id": "cc9fd28d",
   "metadata": {},
   "outputs": [
    {
     "data": {
      "text/plain": [
       "'value1'"
      ]
     },
     "execution_count": 6,
     "metadata": {},
     "output_type": "execute_result"
    }
   ],
   "source": [
    "di['key1']"
   ]
  },
  {
   "cell_type": "code",
   "execution_count": 7,
   "id": "1f944738",
   "metadata": {},
   "outputs": [],
   "source": [
    "money={'apple':1.9988,'oranges':342.2,'banana':53}"
   ]
  },
  {
   "cell_type": "code",
   "execution_count": 8,
   "id": "f2f8fad0",
   "metadata": {},
   "outputs": [
    {
     "data": {
      "text/plain": [
       "342.2"
      ]
     },
     "execution_count": 8,
     "metadata": {},
     "output_type": "execute_result"
    }
   ],
   "source": [
    "money['oranges']"
   ]
  },
  {
   "cell_type": "code",
   "execution_count": 13,
   "id": "438edd17",
   "metadata": {},
   "outputs": [],
   "source": [
    "d={'k1':[2,3,4],'k2':[\"swe\",\"pand\"],'k3':{'k4':1020}}"
   ]
  },
  {
   "cell_type": "code",
   "execution_count": 14,
   "id": "b7c40b13",
   "metadata": {},
   "outputs": [
    {
     "data": {
      "text/plain": [
       "1020"
      ]
     },
     "execution_count": 14,
     "metadata": {},
     "output_type": "execute_result"
    }
   ],
   "source": [
    "d['k3']['k4']"
   ]
  },
  {
   "cell_type": "code",
   "execution_count": 15,
   "id": "2e7defae",
   "metadata": {},
   "outputs": [
    {
     "data": {
      "text/plain": [
       "{'k1': [2, 3, 4], 'k2': ['swe', 'pand'], 'k3': {'k4': 1020}}"
      ]
     },
     "execution_count": 15,
     "metadata": {},
     "output_type": "execute_result"
    }
   ],
   "source": [
    "d"
   ]
  },
  {
   "cell_type": "code",
   "execution_count": 18,
   "id": "8c2898ee",
   "metadata": {},
   "outputs": [],
   "source": [
    "c=d['k2']"
   ]
  },
  {
   "cell_type": "code",
   "execution_count": 22,
   "id": "8ddca6de",
   "metadata": {},
   "outputs": [
    {
     "data": {
      "text/plain": [
       "'PAND'"
      ]
     },
     "execution_count": 22,
     "metadata": {},
     "output_type": "execute_result"
    }
   ],
   "source": [
    "c[1].upper()"
   ]
  },
  {
   "cell_type": "code",
   "execution_count": 23,
   "id": "24323229",
   "metadata": {},
   "outputs": [],
   "source": [
    "e={'k1':120,'k2':345}"
   ]
  },
  {
   "cell_type": "code",
   "execution_count": 24,
   "id": "19196554",
   "metadata": {},
   "outputs": [],
   "source": [
    "e['k3']=456"
   ]
  },
  {
   "cell_type": "code",
   "execution_count": 25,
   "id": "19897a66",
   "metadata": {},
   "outputs": [
    {
     "data": {
      "text/plain": [
       "{'k1': 120, 'k2': 345, 'k3': 456}"
      ]
     },
     "execution_count": 25,
     "metadata": {},
     "output_type": "execute_result"
    }
   ],
   "source": [
    "e"
   ]
  },
  {
   "cell_type": "code",
   "execution_count": 26,
   "id": "b2484b47",
   "metadata": {},
   "outputs": [],
   "source": [
    "e['k1']=\"assigning new value at k1\""
   ]
  },
  {
   "cell_type": "code",
   "execution_count": 27,
   "id": "3d2516f2",
   "metadata": {},
   "outputs": [
    {
     "data": {
      "text/plain": [
       "{'k1': 'assigning new value at k1', 'k2': 345, 'k3': 456}"
      ]
     },
     "execution_count": 27,
     "metadata": {},
     "output_type": "execute_result"
    }
   ],
   "source": [
    "e"
   ]
  },
  {
   "cell_type": "code",
   "execution_count": 28,
   "id": "65c2e373",
   "metadata": {},
   "outputs": [
    {
     "data": {
      "text/plain": [
       "dict_keys(['k1', 'k2', 'k3'])"
      ]
     },
     "execution_count": 28,
     "metadata": {},
     "output_type": "execute_result"
    }
   ],
   "source": [
    "e.keys()"
   ]
  },
  {
   "cell_type": "code",
   "execution_count": 29,
   "id": "9f919c93",
   "metadata": {},
   "outputs": [
    {
     "data": {
      "text/plain": [
       "dict_values(['assigning new value at k1', 345, 456])"
      ]
     },
     "execution_count": 29,
     "metadata": {},
     "output_type": "execute_result"
    }
   ],
   "source": [
    "e.values()"
   ]
  },
  {
   "cell_type": "code",
   "execution_count": 30,
   "id": "e43f741c",
   "metadata": {},
   "outputs": [
    {
     "data": {
      "text/plain": [
       "dict_items([('k1', 'assigning new value at k1'), ('k2', 345), ('k3', 456)])"
      ]
     },
     "execution_count": 30,
     "metadata": {},
     "output_type": "execute_result"
    }
   ],
   "source": [
    "e.items()"
   ]
  },
  {
   "cell_type": "code",
   "execution_count": null,
   "id": "a2501b75",
   "metadata": {},
   "outputs": [],
   "source": []
  }
 ],
 "metadata": {
  "kernelspec": {
   "display_name": "Python 3",
   "language": "python",
   "name": "python3"
  },
  "language_info": {
   "codemirror_mode": {
    "name": "ipython",
    "version": 3
   },
   "file_extension": ".py",
   "mimetype": "text/x-python",
   "name": "python",
   "nbconvert_exporter": "python",
   "pygments_lexer": "ipython3",
   "version": "3.8.8"
  }
 },
 "nbformat": 4,
 "nbformat_minor": 5
}
