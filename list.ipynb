{
 "cells": [
  {
   "cell_type": "code",
   "execution_count": 1,
   "id": "4a043072",
   "metadata": {},
   "outputs": [],
   "source": [
    "l=[1,2,3]"
   ]
  },
  {
   "cell_type": "code",
   "execution_count": 2,
   "id": "b8f33bea",
   "metadata": {},
   "outputs": [],
   "source": [
    "l=[\"stre\",100,23.5]"
   ]
  },
  {
   "cell_type": "code",
   "execution_count": 3,
   "id": "547b7bcb",
   "metadata": {},
   "outputs": [
    {
     "data": {
      "text/plain": [
       "3"
      ]
     },
     "execution_count": 3,
     "metadata": {},
     "output_type": "execute_result"
    }
   ],
   "source": [
    "len(l)"
   ]
  },
  {
   "cell_type": "code",
   "execution_count": 4,
   "id": "9f2cd61c",
   "metadata": {},
   "outputs": [],
   "source": [
    "l=[\"swe\",\"tan\",\"shu\"]"
   ]
  },
  {
   "cell_type": "code",
   "execution_count": 5,
   "id": "707f230e",
   "metadata": {},
   "outputs": [
    {
     "data": {
      "text/plain": [
       "'swe'"
      ]
     },
     "execution_count": 5,
     "metadata": {},
     "output_type": "execute_result"
    }
   ],
   "source": [
    "l[0]"
   ]
  },
  {
   "cell_type": "code",
   "execution_count": 6,
   "id": "15835424",
   "metadata": {},
   "outputs": [
    {
     "data": {
      "text/plain": [
       "['tan', 'shu']"
      ]
     },
     "execution_count": 6,
     "metadata": {},
     "output_type": "execute_result"
    }
   ],
   "source": [
    "l[1:]"
   ]
  },
  {
   "cell_type": "code",
   "execution_count": 7,
   "id": "9273dfc4",
   "metadata": {},
   "outputs": [],
   "source": [
    "l1=[\"pan\",\"dey\"]"
   ]
  },
  {
   "cell_type": "code",
   "execution_count": 18,
   "id": "81bab88e",
   "metadata": {},
   "outputs": [],
   "source": [
    "nl1=l+l1"
   ]
  },
  {
   "cell_type": "code",
   "execution_count": 19,
   "id": "ff29ac0c",
   "metadata": {},
   "outputs": [
    {
     "data": {
      "text/plain": [
       "['swe', 'tan', 'shu', 'pan', 'dey']"
      ]
     },
     "execution_count": 19,
     "metadata": {},
     "output_type": "execute_result"
    }
   ],
   "source": [
    "nl1"
   ]
  },
  {
   "cell_type": "code",
   "execution_count": 20,
   "id": "e5457681",
   "metadata": {},
   "outputs": [
    {
     "data": {
      "text/plain": [
       "'swe'"
      ]
     },
     "execution_count": 20,
     "metadata": {},
     "output_type": "execute_result"
    }
   ],
   "source": [
    "nl1[0]"
   ]
  },
  {
   "cell_type": "code",
   "execution_count": 22,
   "id": "afc7c70a",
   "metadata": {},
   "outputs": [],
   "source": [
    "nl1[0]=\"my name is\""
   ]
  },
  {
   "cell_type": "code",
   "execution_count": 23,
   "id": "66cf7b0f",
   "metadata": {},
   "outputs": [
    {
     "data": {
      "text/plain": [
       "['my name is', 'tan', 'shu', 'pan', 'dey']"
      ]
     },
     "execution_count": 23,
     "metadata": {},
     "output_type": "execute_result"
    }
   ],
   "source": [
    "nl1"
   ]
  },
  {
   "cell_type": "code",
   "execution_count": 24,
   "id": "51d81a30",
   "metadata": {},
   "outputs": [],
   "source": [
    "nl1.append(\"12\")"
   ]
  },
  {
   "cell_type": "code",
   "execution_count": 25,
   "id": "6050a3dd",
   "metadata": {},
   "outputs": [
    {
     "data": {
      "text/plain": [
       "['my name is', 'tan', 'shu', 'pan', 'dey', '12']"
      ]
     },
     "execution_count": 25,
     "metadata": {},
     "output_type": "execute_result"
    }
   ],
   "source": [
    "nl1"
   ]
  },
  {
   "cell_type": "code",
   "execution_count": 26,
   "id": "bb841ad1",
   "metadata": {},
   "outputs": [
    {
     "data": {
      "text/plain": [
       "'12'"
      ]
     },
     "execution_count": 26,
     "metadata": {},
     "output_type": "execute_result"
    }
   ],
   "source": [
    "nl1.pop()"
   ]
  },
  {
   "cell_type": "code",
   "execution_count": 27,
   "id": "1b6facc4",
   "metadata": {},
   "outputs": [
    {
     "data": {
      "text/plain": [
       "['my name is', 'tan', 'shu', 'pan', 'dey']"
      ]
     },
     "execution_count": 27,
     "metadata": {},
     "output_type": "execute_result"
    }
   ],
   "source": [
    "nl1"
   ]
  },
  {
   "cell_type": "code",
   "execution_count": 28,
   "id": "ca436efe",
   "metadata": {},
   "outputs": [
    {
     "data": {
      "text/plain": [
       "'shu'"
      ]
     },
     "execution_count": 28,
     "metadata": {},
     "output_type": "execute_result"
    }
   ],
   "source": [
    "nl1.pop(2)"
   ]
  },
  {
   "cell_type": "code",
   "execution_count": 29,
   "id": "59155a4e",
   "metadata": {},
   "outputs": [
    {
     "data": {
      "text/plain": [
       "['my name is', 'tan', 'pan', 'dey']"
      ]
     },
     "execution_count": 29,
     "metadata": {},
     "output_type": "execute_result"
    }
   ],
   "source": [
    "nl1"
   ]
  },
  {
   "cell_type": "code",
   "execution_count": 34,
   "id": "8d8f2d91",
   "metadata": {},
   "outputs": [],
   "source": [
    "nl2=[4,2,58,23]"
   ]
  },
  {
   "cell_type": "code",
   "execution_count": 35,
   "id": "804e0498",
   "metadata": {},
   "outputs": [],
   "source": [
    "nl3=['a','r','g','d']"
   ]
  },
  {
   "cell_type": "code",
   "execution_count": 36,
   "id": "c9dea1a2",
   "metadata": {},
   "outputs": [],
   "source": [
    "nl2.sort()"
   ]
  },
  {
   "cell_type": "code",
   "execution_count": 37,
   "id": "38b14f38",
   "metadata": {},
   "outputs": [
    {
     "data": {
      "text/plain": [
       "[2, 4, 23, 58]"
      ]
     },
     "execution_count": 37,
     "metadata": {},
     "output_type": "execute_result"
    }
   ],
   "source": [
    "nl2"
   ]
  },
  {
   "cell_type": "code",
   "execution_count": 41,
   "id": "2cbaf23f",
   "metadata": {},
   "outputs": [],
   "source": [
    "nl4=nl3.sort()"
   ]
  },
  {
   "cell_type": "code",
   "execution_count": 46,
   "id": "82d38bd9",
   "metadata": {},
   "outputs": [
    {
     "name": "stdout",
     "output_type": "stream",
     "text": [
      "None\n"
     ]
    }
   ],
   "source": [
    "print(nl4)"
   ]
  },
  {
   "cell_type": "code",
   "execution_count": 44,
   "id": "1c66fcb8",
   "metadata": {},
   "outputs": [
    {
     "data": {
      "text/plain": [
       "NoneType"
      ]
     },
     "execution_count": 44,
     "metadata": {},
     "output_type": "execute_result"
    }
   ],
   "source": [
    "type(nl4)"
   ]
  },
  {
   "cell_type": "code",
   "execution_count": 47,
   "id": "8e5ee2b8",
   "metadata": {},
   "outputs": [],
   "source": [
    "nl3.sort()"
   ]
  },
  {
   "cell_type": "code",
   "execution_count": 48,
   "id": "091363b4",
   "metadata": {},
   "outputs": [],
   "source": [
    "nl4=nl3"
   ]
  },
  {
   "cell_type": "code",
   "execution_count": 49,
   "id": "d756d70e",
   "metadata": {},
   "outputs": [
    {
     "data": {
      "text/plain": [
       "['a', 'd', 'g', 'r']"
      ]
     },
     "execution_count": 49,
     "metadata": {},
     "output_type": "execute_result"
    }
   ],
   "source": [
    "nl4"
   ]
  },
  {
   "cell_type": "code",
   "execution_count": 50,
   "id": "4c1d3059",
   "metadata": {},
   "outputs": [],
   "source": [
    "nl2.reverse()"
   ]
  },
  {
   "cell_type": "code",
   "execution_count": 51,
   "id": "2082ac11",
   "metadata": {},
   "outputs": [
    {
     "data": {
      "text/plain": [
       "[58, 23, 4, 2]"
      ]
     },
     "execution_count": 51,
     "metadata": {},
     "output_type": "execute_result"
    }
   ],
   "source": [
    "nl2"
   ]
  },
  {
   "cell_type": "code",
   "execution_count": 52,
   "id": "bcb7cbc1",
   "metadata": {},
   "outputs": [],
   "source": [
    "ll=[1,2,3,[44,54,67]]"
   ]
  },
  {
   "cell_type": "code",
   "execution_count": 53,
   "id": "bf2d2c95",
   "metadata": {},
   "outputs": [
    {
     "data": {
      "text/plain": [
       "54"
      ]
     },
     "execution_count": 53,
     "metadata": {},
     "output_type": "execute_result"
    }
   ],
   "source": [
    "ll[3][1]"
   ]
  },
  {
   "cell_type": "code",
   "execution_count": null,
   "id": "541c9ee0",
   "metadata": {},
   "outputs": [],
   "source": []
  }
 ],
 "metadata": {
  "kernelspec": {
   "display_name": "Python 3",
   "language": "python",
   "name": "python3"
  },
  "language_info": {
   "codemirror_mode": {
    "name": "ipython",
    "version": 3
   },
   "file_extension": ".py",
   "mimetype": "text/x-python",
   "name": "python",
   "nbconvert_exporter": "python",
   "pygments_lexer": "ipython3",
   "version": "3.8.8"
  }
 },
 "nbformat": 4,
 "nbformat_minor": 5
}
