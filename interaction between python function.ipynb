{
 "cells": [
  {
   "cell_type": "code",
   "execution_count": 23,
   "id": "aa08eabe",
   "metadata": {},
   "outputs": [],
   "source": [
    "ex =[1,2,3,4,5,6,7]"
   ]
  },
  {
   "cell_type": "code",
   "execution_count": 24,
   "id": "c2380ba0",
   "metadata": {},
   "outputs": [],
   "source": [
    "from random import shuffle"
   ]
  },
  {
   "cell_type": "code",
   "execution_count": 25,
   "id": "0a3466cf",
   "metadata": {},
   "outputs": [],
   "source": [
    "shuffle(ex)"
   ]
  },
  {
   "cell_type": "code",
   "execution_count": 26,
   "id": "cf1a4294",
   "metadata": {},
   "outputs": [
    {
     "data": {
      "text/plain": [
       "[2, 6, 3, 1, 7, 4, 5]"
      ]
     },
     "execution_count": 26,
     "metadata": {},
     "output_type": "execute_result"
    }
   ],
   "source": [
    "ex"
   ]
  },
  {
   "cell_type": "code",
   "execution_count": 6,
   "id": "1a3137da",
   "metadata": {},
   "outputs": [],
   "source": [
    "def shuffle_lt(ml):\n",
    "    shuffle(ml)\n",
    "    return ml"
   ]
  },
  {
   "cell_type": "code",
   "execution_count": 7,
   "id": "236997d2",
   "metadata": {},
   "outputs": [],
   "source": [
    "result=shuffle_lt(ex)"
   ]
  },
  {
   "cell_type": "code",
   "execution_count": 8,
   "id": "ae7987db",
   "metadata": {},
   "outputs": [
    {
     "data": {
      "text/plain": [
       "[5, 6, 7, 2, 1, 4, 3]"
      ]
     },
     "execution_count": 8,
     "metadata": {},
     "output_type": "execute_result"
    }
   ],
   "source": [
    "result"
   ]
  },
  {
   "cell_type": "code",
   "execution_count": 34,
   "id": "e6b918f8",
   "metadata": {},
   "outputs": [],
   "source": [
    "ml=['','0','']"
   ]
  },
  {
   "cell_type": "code",
   "execution_count": 35,
   "id": "8131b390",
   "metadata": {},
   "outputs": [
    {
     "data": {
      "text/plain": [
       "['', '0', '']"
      ]
     },
     "execution_count": 35,
     "metadata": {},
     "output_type": "execute_result"
    }
   ],
   "source": [
    "shuffle_lt(ml)"
   ]
  },
  {
   "cell_type": "code",
   "execution_count": 40,
   "id": "4463a74f",
   "metadata": {},
   "outputs": [],
   "source": [
    "def  player_guess():\n",
    "    guess=''\n",
    "    while guess not in ['0','1','2']:\n",
    "        guess=input(\"pick a number :0,1,or2\")\n",
    "    return int(guess)"
   ]
  },
  {
   "cell_type": "code",
   "execution_count": 41,
   "id": "78e85154",
   "metadata": {},
   "outputs": [
    {
     "name": "stdout",
     "output_type": "stream",
     "text": [
      "pick a number :0,1,or22\n"
     ]
    },
    {
     "data": {
      "text/plain": [
       "2"
      ]
     },
     "execution_count": 41,
     "metadata": {},
     "output_type": "execute_result"
    }
   ],
   "source": [
    "player_guess()"
   ]
  },
  {
   "cell_type": "code",
   "execution_count": 13,
   "id": "fc45fd8f",
   "metadata": {},
   "outputs": [],
   "source": [
    "def check_guess(ml,guess):\n",
    "    if ml[guess]=='0':\n",
    "        print(\"correct\")\n",
    "    else:\n",
    "        print(\"wrong\")\n",
    "        print(ml)"
   ]
  },
  {
   "cell_type": "code",
   "execution_count": 18,
   "id": "ea922ba9",
   "metadata": {},
   "outputs": [
    {
     "name": "stdout",
     "output_type": "stream",
     "text": [
      "pick a number :0,1,or21\n",
      "correct\n"
     ]
    }
   ],
   "source": [
    "# initial list\n",
    "ml=['','0','']\n",
    "\n",
    "\n",
    "#shuffle list\n",
    "mixedup_list=shuffle_lt(ml)\n",
    "\n",
    "#user guess\n",
    "guess=player_guess()\n",
    "\n",
    "#check guess\n",
    "\n",
    "check_guess(mixedup_list,guess)"
   ]
  },
  {
   "cell_type": "code",
   "execution_count": null,
   "id": "2ddac1c3",
   "metadata": {},
   "outputs": [],
   "source": []
  }
 ],
 "metadata": {
  "kernelspec": {
   "display_name": "Python 3",
   "language": "python",
   "name": "python3"
  },
  "language_info": {
   "codemirror_mode": {
    "name": "ipython",
    "version": 3
   },
   "file_extension": ".py",
   "mimetype": "text/x-python",
   "name": "python",
   "nbconvert_exporter": "python",
   "pygments_lexer": "ipython3",
   "version": "3.8.8"
  }
 },
 "nbformat": 4,
 "nbformat_minor": 5
}
