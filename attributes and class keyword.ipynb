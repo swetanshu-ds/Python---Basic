{
 "cells": [
  {
   "cell_type": "code",
   "execution_count": 1,
   "id": "96564a00",
   "metadata": {},
   "outputs": [],
   "source": [
    "m=[1,2,3]"
   ]
  },
  {
   "cell_type": "code",
   "execution_count": 2,
   "id": "bb817d2b",
   "metadata": {},
   "outputs": [],
   "source": [
    "myset=set()"
   ]
  },
  {
   "cell_type": "code",
   "execution_count": 3,
   "id": "bcdf0192",
   "metadata": {},
   "outputs": [
    {
     "data": {
      "text/plain": [
       "set"
      ]
     },
     "execution_count": 3,
     "metadata": {},
     "output_type": "execute_result"
    }
   ],
   "source": [
    "type(myset)"
   ]
  },
  {
   "cell_type": "code",
   "execution_count": 5,
   "id": "a86b517c",
   "metadata": {},
   "outputs": [
    {
     "data": {
      "text/plain": [
       "list"
      ]
     },
     "execution_count": 5,
     "metadata": {},
     "output_type": "execute_result"
    }
   ],
   "source": [
    "type(m)"
   ]
  },
  {
   "cell_type": "code",
   "execution_count": 6,
   "id": "5091bc2e",
   "metadata": {},
   "outputs": [],
   "source": [
    "class Sample():\n",
    "    pass"
   ]
  },
  {
   "cell_type": "code",
   "execution_count": 7,
   "id": "f3f085bd",
   "metadata": {},
   "outputs": [],
   "source": [
    "my_sample=Sample()"
   ]
  },
  {
   "cell_type": "code",
   "execution_count": 8,
   "id": "ed4bcb43",
   "metadata": {},
   "outputs": [
    {
     "data": {
      "text/plain": [
       "__main__.Sample"
      ]
     },
     "execution_count": 8,
     "metadata": {},
     "output_type": "execute_result"
    }
   ],
   "source": [
    "type(my_sample)"
   ]
  },
  {
   "cell_type": "code",
   "execution_count": 9,
   "id": "276c0b0c",
   "metadata": {},
   "outputs": [],
   "source": [
    "#  instance is object of class"
   ]
  },
  {
   "cell_type": "code",
   "execution_count": 21,
   "id": "8b36d699",
   "metadata": {},
   "outputs": [],
   "source": [
    "class Dog():\n",
    "    def __init__(self,breed):\n",
    "        self.breed=breed"
   ]
  },
  {
   "cell_type": "code",
   "execution_count": 22,
   "id": "44ce946d",
   "metadata": {},
   "outputs": [],
   "source": [
    "my_dog=Dog(\"german shephard\")"
   ]
  },
  {
   "cell_type": "code",
   "execution_count": 23,
   "id": "17d4d6fb",
   "metadata": {},
   "outputs": [
    {
     "data": {
      "text/plain": [
       "'german shephard'"
      ]
     },
     "execution_count": 23,
     "metadata": {},
     "output_type": "execute_result"
    }
   ],
   "source": [
    "my_dog.breed"
   ]
  },
  {
   "cell_type": "code",
   "execution_count": 33,
   "id": "586d50e6",
   "metadata": {},
   "outputs": [],
   "source": [
    "class Dog():\n",
    "    def __init__(self,bre):  ####  init is constructor of a class\n",
    "        self.breed=bre       ###  self.attribute"
   ]
  },
  {
   "cell_type": "code",
   "execution_count": 28,
   "id": "d0a60a8e",
   "metadata": {},
   "outputs": [],
   "source": [
    "my_dog1=Dog(\"german\")"
   ]
  },
  {
   "cell_type": "code",
   "execution_count": 29,
   "id": "9ba087d8",
   "metadata": {},
   "outputs": [
    {
     "data": {
      "text/plain": [
       "'german'"
      ]
     },
     "execution_count": 29,
     "metadata": {},
     "output_type": "execute_result"
    }
   ],
   "source": [
    "my_dog1.breed"
   ]
  },
  {
   "cell_type": "code",
   "execution_count": 32,
   "id": "cdeab6a5",
   "metadata": {},
   "outputs": [
    {
     "data": {
      "text/plain": [
       "'Dog--->init----->self----->bre---->self.breed---->class'"
      ]
     },
     "execution_count": 32,
     "metadata": {},
     "output_type": "execute_result"
    }
   ],
   "source": [
    "\"Dog--->init----->self----->bre---->self.breed---->class\""
   ]
  },
  {
   "cell_type": "code",
   "execution_count": 34,
   "id": "9bd1a4e7",
   "metadata": {},
   "outputs": [],
   "source": [
    "class cat():\n",
    "    def __init__(self,breed,spots,name):\n",
    "        self.breed=breed\n",
    "        self.spots=spots\n",
    "        self.name=name"
   ]
  },
  {
   "cell_type": "code",
   "execution_count": 36,
   "id": "18b86fbb",
   "metadata": {},
   "outputs": [],
   "source": [
    "myCat=cat(\"lab\",True,\"hus\")"
   ]
  },
  {
   "cell_type": "code",
   "execution_count": 37,
   "id": "919e37c4",
   "metadata": {},
   "outputs": [
    {
     "data": {
      "text/plain": [
       "'hus'"
      ]
     },
     "execution_count": 37,
     "metadata": {},
     "output_type": "execute_result"
    }
   ],
   "source": [
    "myCat.name"
   ]
  },
  {
   "cell_type": "code",
   "execution_count": 38,
   "id": "77e1dfd4",
   "metadata": {},
   "outputs": [
    {
     "data": {
      "text/plain": [
       "True"
      ]
     },
     "execution_count": 38,
     "metadata": {},
     "output_type": "execute_result"
    }
   ],
   "source": [
    "myCat.spots"
   ]
  },
  {
   "cell_type": "markdown",
   "id": "a8316917",
   "metadata": {},
   "source": [
    "### class object attributes and method"
   ]
  },
  {
   "cell_type": "code",
   "execution_count": 44,
   "id": "83f3e710",
   "metadata": {},
   "outputs": [],
   "source": [
    "class Dog():\n",
    "    species='mammal'           ###  class object attributes\n",
    "    def __init__(self,breed,spots,name):\n",
    "        self.breed=breed\n",
    "        self.spots=spots\n",
    "        self.name=name "
   ]
  },
  {
   "cell_type": "code",
   "execution_count": 45,
   "id": "ee3ec996",
   "metadata": {},
   "outputs": [],
   "source": [
    "my_dog=Dog(\"lab\",\"sam\",False)"
   ]
  },
  {
   "cell_type": "code",
   "execution_count": 46,
   "id": "ad0dee67",
   "metadata": {},
   "outputs": [
    {
     "data": {
      "text/plain": [
       "'mammal'"
      ]
     },
     "execution_count": 46,
     "metadata": {},
     "output_type": "execute_result"
    }
   ],
   "source": [
    "my_dog.species"
   ]
  },
  {
   "cell_type": "markdown",
   "id": "659131e5",
   "metadata": {},
   "source": [
    "###   methods"
   ]
  },
  {
   "cell_type": "code",
   "execution_count": 47,
   "id": "ec6e1cce",
   "metadata": {},
   "outputs": [],
   "source": [
    "#method is a function inside a class "
   ]
  },
  {
   "cell_type": "code",
   "execution_count": 59,
   "id": "218f2259",
   "metadata": {},
   "outputs": [],
   "source": [
    "class Dog():\n",
    "    species='mammal'           ###  class object attributes\n",
    "    def __init__(self,breed,name):\n",
    "        self.breed=breed\n",
    "        self.name=name\n",
    "    def bark(self):\n",
    "        print(\"woof\")     "
   ]
  },
  {
   "cell_type": "code",
   "execution_count": 60,
   "id": "ce67bf42",
   "metadata": {},
   "outputs": [],
   "source": [
    "my_dog=Dog('lab','frankie')"
   ]
  },
  {
   "cell_type": "code",
   "execution_count": 53,
   "id": "080b30ed",
   "metadata": {},
   "outputs": [
    {
     "name": "stdout",
     "output_type": "stream",
     "text": [
      "woof\n"
     ]
    }
   ],
   "source": [
    "my_dog.bark()"
   ]
  },
  {
   "cell_type": "code",
   "execution_count": 61,
   "id": "3f60df99",
   "metadata": {},
   "outputs": [
    {
     "data": {
      "text/plain": [
       "'frankie'"
      ]
     },
     "execution_count": 61,
     "metadata": {},
     "output_type": "execute_result"
    }
   ],
   "source": [
    "my_dog.name"
   ]
  },
  {
   "cell_type": "code",
   "execution_count": 62,
   "id": "6c58d253",
   "metadata": {},
   "outputs": [],
   "source": [
    "class Dog():\n",
    "    species='mammal'           ###  class object attributes\n",
    "    def __init__(self,breed,name):\n",
    "        self.breed=breed\n",
    "        self.name=name\n",
    "    def bark(self):\n",
    "        print(\"woof! my name is {}\".format(self.name))     "
   ]
  },
  {
   "cell_type": "code",
   "execution_count": 73,
   "id": "9a51646b",
   "metadata": {},
   "outputs": [],
   "source": [
    "my_dog=Dog(\"lab\",\"frankie\")"
   ]
  },
  {
   "cell_type": "code",
   "execution_count": 67,
   "id": "7950a169",
   "metadata": {},
   "outputs": [
    {
     "name": "stdout",
     "output_type": "stream",
     "text": [
      "woof! my name is frankie\n"
     ]
    }
   ],
   "source": [
    "my_dog.bark()"
   ]
  },
  {
   "cell_type": "code",
   "execution_count": 71,
   "id": "2377fd61",
   "metadata": {},
   "outputs": [],
   "source": [
    "class Dog():\n",
    "    species='mammal'           ###  class object attributes\n",
    "    def __init__(self,breed,name):\n",
    "        self.breed=breed\n",
    "        self.name=name\n",
    "    def bark(self,number):\n",
    "        print(\"woof! my name is {} and the number is {}\".format(self.name,number))     "
   ]
  },
  {
   "cell_type": "code",
   "execution_count": 74,
   "id": "45594c15",
   "metadata": {},
   "outputs": [
    {
     "name": "stdout",
     "output_type": "stream",
     "text": [
      "woof! my name is frankie and the number is 10\n"
     ]
    }
   ],
   "source": [
    "my_dog.bark(10)"
   ]
  },
  {
   "cell_type": "code",
   "execution_count": 86,
   "id": "25b86340",
   "metadata": {},
   "outputs": [],
   "source": [
    "class Circle():\n",
    "    pi=3.14\n",
    "    def __init__(self,radius=1):\n",
    "        self.radius=radius\n",
    "        # method\n",
    "    def get_circumference(self):\n",
    "        return self.radius*self.pi*2 "
   ]
  },
  {
   "cell_type": "code",
   "execution_count": 87,
   "id": "cacc0efb",
   "metadata": {},
   "outputs": [],
   "source": [
    "my_circle=Circle()"
   ]
  },
  {
   "cell_type": "code",
   "execution_count": 88,
   "id": "e7e1f7ed",
   "metadata": {},
   "outputs": [],
   "source": [
    "my_circle=Circle(20)"
   ]
  },
  {
   "cell_type": "code",
   "execution_count": 89,
   "id": "19cc042c",
   "metadata": {},
   "outputs": [
    {
     "data": {
      "text/plain": [
       "3.14"
      ]
     },
     "execution_count": 89,
     "metadata": {},
     "output_type": "execute_result"
    }
   ],
   "source": [
    "my_circle.pi"
   ]
  },
  {
   "cell_type": "code",
   "execution_count": 90,
   "id": "b4d4b366",
   "metadata": {},
   "outputs": [
    {
     "data": {
      "text/plain": [
       "125.60000000000001"
      ]
     },
     "execution_count": 90,
     "metadata": {},
     "output_type": "execute_result"
    }
   ],
   "source": [
    "my_circle.get_circumference()"
   ]
  },
  {
   "cell_type": "code",
   "execution_count": null,
   "id": "80c1ddca",
   "metadata": {},
   "outputs": [],
   "source": [
    "    "
   ]
  }
 ],
 "metadata": {
  "kernelspec": {
   "display_name": "Python 3",
   "language": "python",
   "name": "python3"
  },
  "language_info": {
   "codemirror_mode": {
    "name": "ipython",
    "version": 3
   },
   "file_extension": ".py",
   "mimetype": "text/x-python",
   "name": "python",
   "nbconvert_exporter": "python",
   "pygments_lexer": "ipython3",
   "version": "3.8.8"
  }
 },
 "nbformat": 4,
 "nbformat_minor": 5
}
