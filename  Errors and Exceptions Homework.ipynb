{
 "cells": [
  {
   "cell_type": "code",
   "execution_count": 1,
   "id": "00a05efb",
   "metadata": {},
   "outputs": [],
   "source": [
    "#  Problem 1\n",
    "#  Handle the exception thrown by the code below by using try and except blocks."
   ]
  },
  {
   "cell_type": "code",
   "execution_count": 3,
   "id": "5f527858",
   "metadata": {},
   "outputs": [
    {
     "name": "stdout",
     "output_type": "stream",
     "text": [
      "there is an TypeError\n"
     ]
    }
   ],
   "source": [
    "try:\n",
    "    for i in ['a','b','c']:\n",
    "        print(i**2)\n",
    "except TypeError:\n",
    "    print(\"there is an TypeError\")"
   ]
  },
  {
   "cell_type": "code",
   "execution_count": 4,
   "id": "1fac7530",
   "metadata": {},
   "outputs": [],
   "source": [
    "#  Problem 2\n",
    "#  Handle the exception thrown by the code below by using try and except blocks. Then use a finally block to print 'All Done.'"
   ]
  },
  {
   "cell_type": "code",
   "execution_count": 7,
   "id": "ad314c24",
   "metadata": {},
   "outputs": [
    {
     "name": "stdout",
     "output_type": "stream",
     "text": [
      "there is a ZeroDivisionError\n"
     ]
    }
   ],
   "source": [
    "try:\n",
    "    x=5\n",
    "    y=0\n",
    "    z= x/y\n",
    "except ZeroDivisionError:\n",
    "    print(\"there is a ZeroDivisionError\")"
   ]
  },
  {
   "cell_type": "code",
   "execution_count": 8,
   "id": "35600c56",
   "metadata": {},
   "outputs": [],
   "source": [
    "# Problem 3\n",
    "#  Write a function that asks for an integer and prints the square of it. \n",
    "#  Use a while loop with a try, except, else block to account for incorrect inputs"
   ]
  },
  {
   "cell_type": "code",
   "execution_count": 31,
   "id": "52344eb1",
   "metadata": {},
   "outputs": [],
   "source": [
    "def ask():\n",
    "    while True:\n",
    "            try:\n",
    "                result=int(input(\"Input an integer:\"))\n",
    "                z=((result)**2) \n",
    "            except:      \n",
    "                print(\"its not an integer\")\n",
    "                continue\n",
    "            else:\n",
    "                print(\"yes its an integer\")\n",
    "                print(z)\n",
    "                break\n",
    "            finally:\n",
    "                 print(\"thankyou we got the number \")     "
   ]
  },
  {
   "cell_type": "code",
   "execution_count": 32,
   "id": "b5bcafe3",
   "metadata": {},
   "outputs": [
    {
     "name": "stdout",
     "output_type": "stream",
     "text": [
      "Input an integer:2\n",
      "yes its an integer\n",
      "4\n",
      "thankyou we got the number \n"
     ]
    }
   ],
   "source": [
    "ask()"
   ]
  },
  {
   "cell_type": "code",
   "execution_count": 33,
   "id": "e27aac2a",
   "metadata": {},
   "outputs": [
    {
     "name": "stdout",
     "output_type": "stream",
     "text": [
      "Input an integer:adca\n",
      "its not an integer\n",
      "thankyou we got the number \n",
      "Input an integer:ascasc\n",
      "its not an integer\n",
      "thankyou we got the number \n",
      "Input an integer:3\n",
      "yes its an integer\n",
      "9\n",
      "thankyou we got the number \n"
     ]
    }
   ],
   "source": [
    "ask()"
   ]
  },
  {
   "cell_type": "code",
   "execution_count": null,
   "id": "a807d822",
   "metadata": {},
   "outputs": [],
   "source": []
  }
 ],
 "metadata": {
  "kernelspec": {
   "display_name": "Python 3",
   "language": "python",
   "name": "python3"
  },
  "language_info": {
   "codemirror_mode": {
    "name": "ipython",
    "version": 3
   },
   "file_extension": ".py",
   "mimetype": "text/x-python",
   "name": "python",
   "nbconvert_exporter": "python",
   "pygments_lexer": "ipython3",
   "version": "3.8.8"
  }
 },
 "nbformat": 4,
 "nbformat_minor": 5
}
