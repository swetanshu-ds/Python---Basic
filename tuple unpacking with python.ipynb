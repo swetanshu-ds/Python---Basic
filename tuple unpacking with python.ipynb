{
 "cells": [
  {
   "cell_type": "code",
   "execution_count": 1,
   "id": "eba77005",
   "metadata": {},
   "outputs": [],
   "source": [
    "stock_price=[('APPL',200),('GOOG',400),('MSFT',100)]"
   ]
  },
  {
   "cell_type": "code",
   "execution_count": 3,
   "id": "300ec1b2",
   "metadata": {},
   "outputs": [
    {
     "name": "stdout",
     "output_type": "stream",
     "text": [
      "('APPL', 200)\n",
      "('GOOG', 400)\n",
      "('MSFT', 100)\n"
     ]
    }
   ],
   "source": [
    "for i in stock_price:\n",
    "    print(i)"
   ]
  },
  {
   "cell_type": "code",
   "execution_count": 8,
   "id": "4cdaa35c",
   "metadata": {},
   "outputs": [
    {
     "name": "stdout",
     "output_type": "stream",
     "text": [
      "APPL\n",
      "GOOG\n",
      "MSFT\n"
     ]
    }
   ],
   "source": [
    "for i,j in stock_price:\n",
    "    print(i)"
   ]
  },
  {
   "cell_type": "code",
   "execution_count": 9,
   "id": "57a28af6",
   "metadata": {},
   "outputs": [
    {
     "name": "stdout",
     "output_type": "stream",
     "text": [
      "220.0\n",
      "440.0\n",
      "110.0\n"
     ]
    }
   ],
   "source": [
    "for i,j in stock_price:\n",
    "    print(j+(0.1*j))"
   ]
  },
  {
   "cell_type": "code",
   "execution_count": 25,
   "id": "423bacc8",
   "metadata": {},
   "outputs": [],
   "source": [
    "works_hours=[('raj',100),('pandey',200),('swetanshu',300)]"
   ]
  },
  {
   "cell_type": "code",
   "execution_count": 26,
   "id": "8095d46c",
   "metadata": {},
   "outputs": [],
   "source": [
    "def employee_check(works_hours):\n",
    "    current_max=0\n",
    "    employee_of_month=''\n",
    "    for employee,hours in works_hours:\n",
    "        if hours>current_max:\n",
    "            current_max=hours\n",
    "            employee_of_month=employee\n",
    "        else:\n",
    "            pass\n",
    "    return (employee_of_month,current_max)   "
   ]
  },
  {
   "cell_type": "code",
   "execution_count": 27,
   "id": "30529e8a",
   "metadata": {},
   "outputs": [
    {
     "data": {
      "text/plain": [
       "('swetanshu', 300)"
      ]
     },
     "execution_count": 27,
     "metadata": {},
     "output_type": "execute_result"
    }
   ],
   "source": [
    "employee_check(works_hours)"
   ]
  },
  {
   "cell_type": "code",
   "execution_count": 42,
   "id": "bbdeefa8",
   "metadata": {},
   "outputs": [],
   "source": [
    "works_hours=[('raj',100),('pandey',2000),('swetanshu',300)]"
   ]
  },
  {
   "cell_type": "code",
   "execution_count": 43,
   "id": "99793e8b",
   "metadata": {},
   "outputs": [],
   "source": [
    "def employee_check(works_hours):\n",
    "    current_max=0\n",
    "    employee_of_month=''\n",
    "    for employee,hours in works_hours:\n",
    "        if hours>current_max:\n",
    "            current_max=hours\n",
    "            employee_of_month=employee\n",
    "        else:\n",
    "            pass\n",
    "    return (employee_of_month,current_max)   "
   ]
  },
  {
   "cell_type": "code",
   "execution_count": 44,
   "id": "a4459e83",
   "metadata": {},
   "outputs": [
    {
     "data": {
      "text/plain": [
       "('pandey', 2000)"
      ]
     },
     "execution_count": 44,
     "metadata": {},
     "output_type": "execute_result"
    }
   ],
   "source": [
    "employee_check(works_hours)"
   ]
  },
  {
   "cell_type": "code",
   "execution_count": 1,
   "id": "7a0a6c97",
   "metadata": {},
   "outputs": [],
   "source": [
    "a=[(\"aap\",22),(\"mcs\",20),(\"askic\",2189)]"
   ]
  },
  {
   "cell_type": "code",
   "execution_count": 3,
   "id": "6c359ef2",
   "metadata": {},
   "outputs": [
    {
     "name": "stdout",
     "output_type": "stream",
     "text": [
      "22 aap\n",
      "20 mcs\n",
      "2189 askic\n"
     ]
    }
   ],
   "source": [
    "for i,j in a:\n",
    "    print(j,i)"
   ]
  },
  {
   "cell_type": "code",
   "execution_count": 67,
   "id": "2c4e3078",
   "metadata": {},
   "outputs": [],
   "source": [
    "a=[(\"raj\",20),(\"pandey\",400),(\"swetanshu\",3)]"
   ]
  },
  {
   "cell_type": "code",
   "execution_count": 68,
   "id": "f6fceeb4",
   "metadata": {},
   "outputs": [],
   "source": [
    "def employee(a):\n",
    "    x = 0\n",
    "    y = '' \n",
    "    for employee,time in a:\n",
    "        if time > x:\n",
    "            x= time\n",
    "            y = employee  \n",
    "        else:\n",
    "            pass\n",
    "    return(x,y)      "
   ]
  },
  {
   "cell_type": "code",
   "execution_count": 69,
   "id": "b8ac2653",
   "metadata": {},
   "outputs": [
    {
     "data": {
      "text/plain": [
       "(400, 'pandey')"
      ]
     },
     "execution_count": 69,
     "metadata": {},
     "output_type": "execute_result"
    }
   ],
   "source": [
    "employee(a)"
   ]
  },
  {
   "cell_type": "code",
   "execution_count": null,
   "id": "62cfd807",
   "metadata": {},
   "outputs": [],
   "source": []
  }
 ],
 "metadata": {
  "kernelspec": {
   "display_name": "Python 3",
   "language": "python",
   "name": "python3"
  },
  "language_info": {
   "codemirror_mode": {
    "name": "ipython",
    "version": 3
   },
   "file_extension": ".py",
   "mimetype": "text/x-python",
   "name": "python",
   "nbconvert_exporter": "python",
   "pygments_lexer": "ipython3",
   "version": "3.8.8"
  }
 },
 "nbformat": 4,
 "nbformat_minor": 5
}
