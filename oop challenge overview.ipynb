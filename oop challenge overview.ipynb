{
 "cells": [
  {
   "cell_type": "code",
   "execution_count": 66,
   "id": "15374da2",
   "metadata": {},
   "outputs": [],
   "source": [
    "### Object Oriented Programming Challenge\n",
    "### For this challenge, create a bank account class that has two attributes:\n",
    "\n",
    "###  owner\n",
    "###  balance\n",
    "###   and two methods:\n",
    "\n",
    "###   deposit\n",
    "###   withdraw\n",
    "###   As an added requirement, withdrawals may not exceed the available balance.\n",
    "\n",
    "###   Instantiate your class, make several deposits and withdrawals, and test to make sure the account can't be overdrawn."
   ]
  },
  {
   "cell_type": "code",
   "execution_count": 76,
   "id": "855da333",
   "metadata": {},
   "outputs": [],
   "source": [
    "class Bank_account():\n",
    "    def __init__(self,owner,balance):\n",
    "        self.owner=owner\n",
    "        self.balance=balance\n",
    "        \n",
    "    def deposit(self,deposit):\n",
    "        self.deposit=deposit\n",
    "        self.balance=deposit+self.balance\n",
    "        return \"deposit accepted\"\n",
    "        \n",
    "    def withdraw(self,withdraw):\n",
    "        self.withdraw=withdraw\n",
    "        if self.withdraw<=self.balance:\n",
    "             return \"withdrawal of {} is accepted\".format(self.withdraw) \n",
    "        else:\n",
    "            print(\"no funds available\")\n",
    "    def __str__(self):\n",
    "        return \"owner name is {} and available balance is {}\".format(self.owner,self.balance)"
   ]
  },
  {
   "cell_type": "code",
   "execution_count": 77,
   "id": "921c1a77",
   "metadata": {},
   "outputs": [],
   "source": [
    "acc1=Bank_account(\"raj\",500)"
   ]
  },
  {
   "cell_type": "code",
   "execution_count": 78,
   "id": "57aa2cc4",
   "metadata": {},
   "outputs": [
    {
     "name": "stdout",
     "output_type": "stream",
     "text": [
      "owner name is raj and available balance is 500\n"
     ]
    }
   ],
   "source": [
    "print(acc1)"
   ]
  },
  {
   "cell_type": "code",
   "execution_count": 79,
   "id": "d3c34db1",
   "metadata": {},
   "outputs": [
    {
     "data": {
      "text/plain": [
       "'raj'"
      ]
     },
     "execution_count": 79,
     "metadata": {},
     "output_type": "execute_result"
    }
   ],
   "source": [
    "acc1.owner"
   ]
  },
  {
   "cell_type": "code",
   "execution_count": 80,
   "id": "3177c077",
   "metadata": {},
   "outputs": [
    {
     "data": {
      "text/plain": [
       "500"
      ]
     },
     "execution_count": 80,
     "metadata": {},
     "output_type": "execute_result"
    }
   ],
   "source": [
    "acc1.balance"
   ]
  },
  {
   "cell_type": "code",
   "execution_count": 81,
   "id": "6e7220d1",
   "metadata": {},
   "outputs": [
    {
     "data": {
      "text/plain": [
       "'deposit accepted'"
      ]
     },
     "execution_count": 81,
     "metadata": {},
     "output_type": "execute_result"
    }
   ],
   "source": [
    "acc1.deposit(400)"
   ]
  },
  {
   "cell_type": "code",
   "execution_count": 73,
   "id": "634fbd0c",
   "metadata": {},
   "outputs": [
    {
     "name": "stdout",
     "output_type": "stream",
     "text": [
      "no funds available\n"
     ]
    }
   ],
   "source": [
    "acc1.withdraw(4500)"
   ]
  },
  {
   "cell_type": "code",
   "execution_count": 82,
   "id": "2308cfeb",
   "metadata": {},
   "outputs": [
    {
     "data": {
      "text/plain": [
       "'withdrawal of 45 is accepted'"
      ]
     },
     "execution_count": 82,
     "metadata": {},
     "output_type": "execute_result"
    }
   ],
   "source": [
    "acc1.withdraw(45)"
   ]
  }
 ],
 "metadata": {
  "kernelspec": {
   "display_name": "Python 3",
   "language": "python",
   "name": "python3"
  },
  "language_info": {
   "codemirror_mode": {
    "name": "ipython",
    "version": 3
   },
   "file_extension": ".py",
   "mimetype": "text/x-python",
   "name": "python",
   "nbconvert_exporter": "python",
   "pygments_lexer": "ipython3",
   "version": "3.8.8"
  }
 },
 "nbformat": 4,
 "nbformat_minor": 5
}
