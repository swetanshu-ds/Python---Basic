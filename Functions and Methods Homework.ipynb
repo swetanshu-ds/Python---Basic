{
 "cells": [
  {
   "cell_type": "code",
   "execution_count": 42,
   "id": "98933999",
   "metadata": {},
   "outputs": [],
   "source": [
    "# Write a function that computes the volume of a sphere given its radius."
   ]
  },
  {
   "cell_type": "code",
   "execution_count": 43,
   "id": "29015d9e",
   "metadata": {},
   "outputs": [],
   "source": [
    "def vol(r):\n",
    "    v=(4/3)*(3.14)*r*r*r\n",
    "    return v"
   ]
  },
  {
   "cell_type": "code",
   "execution_count": 44,
   "id": "b5d9d605",
   "metadata": {},
   "outputs": [
    {
     "data": {
      "text/plain": [
       "33.49333333333333"
      ]
     },
     "execution_count": 44,
     "metadata": {},
     "output_type": "execute_result"
    }
   ],
   "source": [
    "vol(2)"
   ]
  },
  {
   "cell_type": "code",
   "execution_count": 45,
   "id": "4ccb638d",
   "metadata": {},
   "outputs": [],
   "source": [
    "# Write a function that checks whether a number is in a given range (inclusive of high and low)"
   ]
  },
  {
   "cell_type": "code",
   "execution_count": 46,
   "id": "6d768626",
   "metadata": {},
   "outputs": [],
   "source": [
    "def num_check(x,low,high):\n",
    "     if x<high and x>low:\n",
    "            y= '{} is in the range {} and {}'\n",
    "            return y.format(x,low,high)\n",
    "     else:\n",
    "        return False"
   ]
  },
  {
   "cell_type": "code",
   "execution_count": 47,
   "id": "5018220b",
   "metadata": {},
   "outputs": [
    {
     "data": {
      "text/plain": [
       "'12 is in the range 10 and 20'"
      ]
     },
     "execution_count": 47,
     "metadata": {},
     "output_type": "execute_result"
    }
   ],
   "source": [
    "num_check(12,10,20)"
   ]
  },
  {
   "cell_type": "code",
   "execution_count": 48,
   "id": "507c95a8",
   "metadata": {},
   "outputs": [],
   "source": [
    "# Write a Python function that accepts a string and calculates the number of upper case letters and lower case letters.\n",
    "# Sample String : 'Hello Mr. Rogers, how are you this fine Tuesday?'\n",
    "# Expected Output : \n",
    "# No. of Upper case characters : 4\n",
    "# No. of Lower case Characters : 33"
   ]
  },
  {
   "cell_type": "code",
   "execution_count": 49,
   "id": "116e7fbb",
   "metadata": {},
   "outputs": [],
   "source": [
    "def up_low(s):\n",
    "    up=[]\n",
    "    low=[]\n",
    "    for i in s:\n",
    "        if i.isupper():\n",
    "            up.append(i)\n",
    "        elif i.islower():\n",
    "            low.append(i)\n",
    "    \n",
    "    print(\"No. of Upper case characters :\",len(up))\n",
    "    print(\"No. of lower case characters :\",len(low))    "
   ]
  },
  {
   "cell_type": "code",
   "execution_count": 50,
   "id": "c6cc10e4",
   "metadata": {},
   "outputs": [
    {
     "name": "stdout",
     "output_type": "stream",
     "text": [
      "No. of Upper case characters : 4\n",
      "No. of lower case characters : 33\n"
     ]
    }
   ],
   "source": [
    "up_low('Hello Mr. Rogers, how are you this fine Tuesday')"
   ]
  },
  {
   "cell_type": "code",
   "execution_count": 51,
   "id": "6f6fba74",
   "metadata": {},
   "outputs": [],
   "source": [
    "# Write a Python function that takes a list and returns a new list with unique elements of the first list.\n",
    "# Sample List : [1,1,1,1,2,2,3,3,3,3,4,5]\n",
    "# Unique List : [1, 2, 3, 4, 5]"
   ]
  },
  {
   "cell_type": "code",
   "execution_count": 52,
   "id": "bdd0eaea",
   "metadata": {},
   "outputs": [],
   "source": [
    "def unique_lst(l):\n",
    "    x=[]\n",
    "    for i in l:\n",
    "        if i not in x:\n",
    "            x.append(i)\n",
    "    return x        "
   ]
  },
  {
   "cell_type": "code",
   "execution_count": 53,
   "id": "4865001d",
   "metadata": {},
   "outputs": [],
   "source": [
    "l=[1,1,1,2,2,2,3,3,3]"
   ]
  },
  {
   "cell_type": "code",
   "execution_count": 54,
   "id": "7159ed67",
   "metadata": {},
   "outputs": [
    {
     "data": {
      "text/plain": [
       "[1, 2, 3]"
      ]
     },
     "execution_count": 54,
     "metadata": {},
     "output_type": "execute_result"
    }
   ],
   "source": [
    "unique_lst(l)"
   ]
  },
  {
   "cell_type": "code",
   "execution_count": 55,
   "id": "1889debc",
   "metadata": {},
   "outputs": [],
   "source": [
    "#  Write a Python function to multiply all the numbers in a list.\n",
    "# Sample List : [1, 2, 3, -4]\n",
    "# Expected Output : -24"
   ]
  },
  {
   "cell_type": "code",
   "execution_count": 56,
   "id": "e56a60a6",
   "metadata": {},
   "outputs": [],
   "source": [
    "def multiply(l):\n",
    "        m=1\n",
    "        for i in l:\n",
    "            m=m*i\n",
    "        return m     "
   ]
  },
  {
   "cell_type": "code",
   "execution_count": 57,
   "id": "a85c1229",
   "metadata": {},
   "outputs": [
    {
     "data": {
      "text/plain": [
       "-24"
      ]
     },
     "execution_count": 57,
     "metadata": {},
     "output_type": "execute_result"
    }
   ],
   "source": [
    "multiply([1,2,3,-4])"
   ]
  },
  {
   "cell_type": "code",
   "execution_count": 58,
   "id": "5d6c6612",
   "metadata": {},
   "outputs": [],
   "source": [
    "# Write a Python function that checks whether a word or phrase is palindrome or not.\n",
    "# Note: A palindrome is word, phrase, or sequence that reads the same backward as forward, \n",
    "# e.g., madam,kayak,racecar, or a phrase \"nurses run\". Hint: You may want to check out the\n",
    "#  .replace() method in a string to help out with dealing with spaces.\n",
    "# Also google search how to reverse a string in Python, there are some clever ways to do it with slicing notation."
   ]
  },
  {
   "cell_type": "code",
   "execution_count": 59,
   "id": "02600579",
   "metadata": {},
   "outputs": [],
   "source": [
    "def palindrome(s):\n",
    "        s=s.replace(\" \",\"\")\n",
    "        if s[0:]==s[::-1]:\n",
    "            return True\n",
    "        else:\n",
    "            return False"
   ]
  },
  {
   "cell_type": "code",
   "execution_count": 60,
   "id": "6ea980e4",
   "metadata": {},
   "outputs": [
    {
     "data": {
      "text/plain": [
       "False"
      ]
     },
     "execution_count": 60,
     "metadata": {},
     "output_type": "execute_result"
    }
   ],
   "source": [
    "palindrome(\"swetanshu pandey\")"
   ]
  },
  {
   "cell_type": "code",
   "execution_count": 61,
   "id": "1d6d2870",
   "metadata": {},
   "outputs": [
    {
     "data": {
      "text/plain": [
       "True"
      ]
     },
     "execution_count": 61,
     "metadata": {},
     "output_type": "execute_result"
    }
   ],
   "source": [
    "palindrome(\"nurses run\")"
   ]
  },
  {
   "cell_type": "code",
   "execution_count": 62,
   "id": "f96a4964",
   "metadata": {},
   "outputs": [],
   "source": [
    "#  Write a Python function to check whether a string is pangram or not.\n",
    "#  (Assume the string passed in does not have any punctuation)\n",
    "\n",
    "#  Note : Pangrams are words or sentences containing every letter of the alphabet at least once.\n",
    "# For example : \"The quick brown fox jumps over the lazy dog\"\n",
    "\n",
    "#  Hint: You may want to use .replace() method to get rid of spaces.\n",
    "\n",
    "#  Hint: Look at the string module\n",
    "\n",
    "#  Hint: In case you want to use set comparisons"
   ]
  },
  {
   "cell_type": "code",
   "execution_count": 71,
   "id": "9297a645",
   "metadata": {},
   "outputs": [],
   "source": [
    "import string\n",
    "alphabet2=string.ascii_lowercase\n",
    "alphabet2=set(alphabet2)\n",
    "l=list(alphabet2)\n",
    "def is_pangram(s,l):\n",
    "    s=s.replace(\" \",\"\")\n",
    "    s=s.lower()\n",
    "    for i in l:\n",
    "        if i in s:\n",
    "            return True\n",
    "        else:\n",
    "            return False"
   ]
  },
  {
   "cell_type": "code",
   "execution_count": 72,
   "id": "0337ae7b",
   "metadata": {},
   "outputs": [
    {
     "data": {
      "text/plain": [
       "True"
      ]
     },
     "execution_count": 72,
     "metadata": {},
     "output_type": "execute_result"
    }
   ],
   "source": [
    "is_pangram(\"The quick brown fox jumps over the lazy dog\",l)"
   ]
  },
  {
   "cell_type": "code",
   "execution_count": 73,
   "id": "bbcc6bf4",
   "metadata": {},
   "outputs": [
    {
     "data": {
      "text/plain": [
       "False"
      ]
     },
     "execution_count": 73,
     "metadata": {},
     "output_type": "execute_result"
    }
   ],
   "source": [
    "is_pangram(\"swetanshu\",l)"
   ]
  },
  {
   "cell_type": "code",
   "execution_count": null,
   "id": "994f53d5",
   "metadata": {},
   "outputs": [],
   "source": []
  }
 ],
 "metadata": {
  "kernelspec": {
   "display_name": "Python 3",
   "language": "python",
   "name": "python3"
  },
  "language_info": {
   "codemirror_mode": {
    "name": "ipython",
    "version": 3
   },
   "file_extension": ".py",
   "mimetype": "text/x-python",
   "name": "python",
   "nbconvert_exporter": "python",
   "pygments_lexer": "ipython3",
   "version": "3.8.8"
  }
 },
 "nbformat": 4,
 "nbformat_minor": 5
}
