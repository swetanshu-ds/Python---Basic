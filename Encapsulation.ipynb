{
 "cells": [
  {
   "cell_type": "code",
   "execution_count": 13,
   "metadata": {},
   "outputs": [
    {
     "name": "stdout",
     "output_type": "stream",
     "text": [
      "Salman Khan Male\n"
     ]
    },
    {
     "data": {
      "text/plain": [
       "('PAKISTAN', 'Female')"
      ]
     },
     "execution_count": 13,
     "metadata": {},
     "output_type": "execute_result"
    }
   ],
   "source": [
    "class Bollywood:\n",
    "    def __init__(self):\n",
    "        self.country = \"India\"      #PUBLIC class variable\n",
    "          \n",
    "class Actor(Bollywood):\n",
    "    def __init__(self, name, surname):\n",
    "        self.name = name\n",
    "        self.surname= surname\n",
    "        self.gender = \"Male\"\n",
    "        super().__init__()\n",
    "        \n",
    "        \n",
    "a1 = Actor(\"Salman\", \"Khan\")\n",
    "print(a1.name,a1.surname,a1.gender)\n",
    "a1.country = \"PAKISTAN\"\n",
    "a1.gender = \"Female\"\n",
    "a1.country, a1.gender\n"
   ]
  },
  {
   "cell_type": "code",
   "execution_count": 12,
   "metadata": {},
   "outputs": [
    {
     "name": "stdout",
     "output_type": "stream",
     "text": [
      "Salman Khan Male\n"
     ]
    },
    {
     "data": {
      "text/plain": [
       "'India'"
      ]
     },
     "execution_count": 12,
     "metadata": {},
     "output_type": "execute_result"
    }
   ],
   "source": [
    "#Encapsulation\n",
    "class Bollywood:\n",
    "    def __init__(self):\n",
    "        self.__country = \"India\"      #Private class variable\n",
    "          \n",
    "class Actor(Bollywood):\n",
    "    def __init__(self, name, surname):\n",
    "        self.name = name\n",
    "        self.surname= surname\n",
    "        self.gender = \"Male\"\n",
    "        super().__init__()\n",
    "        \n",
    "        \n",
    "a1 = Actor(\"Salman\", \"Khan\")\n",
    "print(a1.name,a1.surname,a1.gender)\n",
    "#a1.country\n",
    "a1.\n",
    "a1._Bollywood__country\n"
   ]
  },
  {
   "cell_type": "code",
   "execution_count": 14,
   "metadata": {},
   "outputs": [
    {
     "name": "stdout",
     "output_type": "stream",
     "text": [
      "Salman Khan Male\n"
     ]
    },
    {
     "data": {
      "text/plain": [
       "'Pakistan'"
      ]
     },
     "execution_count": 14,
     "metadata": {},
     "output_type": "execute_result"
    }
   ],
   "source": [
    "#Encapsulation\n",
    "class Bollywood:\n",
    "    def __init__(self):\n",
    "        self.__country = \"India\"      #Private class variable\n",
    "          \n",
    "class Actor(Bollywood):\n",
    "    def __init__(self, name, surname):\n",
    "        self.name = name\n",
    "        self.surname= surname\n",
    "        self.gender = \"Male\"\n",
    "        super().__init__()\n",
    "        \n",
    "        \n",
    "a1 = Actor(\"Salman\", \"Khan\")\n",
    "print(a1.name,a1.surname,a1.gender)\n",
    "#a1.country\n",
    "\n",
    "a1._Bollywood__country =\"Pakistan\"\n",
    "a1._Bollywood__country"
   ]
  },
  {
   "cell_type": "code",
   "execution_count": 15,
   "metadata": {},
   "outputs": [],
   "source": [
    "#protected--- do it by yourself"
   ]
  },
  {
   "cell_type": "code",
   "execution_count": null,
   "metadata": {},
   "outputs": [],
   "source": []
  }
 ],
 "metadata": {
  "kernelspec": {
   "display_name": "Python 3",
   "language": "python",
   "name": "python3"
  },
  "language_info": {
   "codemirror_mode": {
    "name": "ipython",
    "version": 3
   },
   "file_extension": ".py",
   "mimetype": "text/x-python",
   "name": "python",
   "nbconvert_exporter": "python",
   "pygments_lexer": "ipython3",
   "version": "3.8.5"
  }
 },
 "nbformat": 4,
 "nbformat_minor": 4
}
