{
 "cells": [
  {
   "cell_type": "markdown",
   "metadata": {},
   "source": [
    "# https://www.python-course.eu/python3_re.php"
   ]
  },
  {
   "cell_type": "code",
   "execution_count": 5,
   "metadata": {},
   "outputs": [
    {
     "data": {
      "text/plain": [
       "True"
      ]
     },
     "execution_count": 5,
     "metadata": {},
     "output_type": "execute_result"
    }
   ],
   "source": [
    "a = \"Data12345 Science\"\n",
    "\"Data\" in a"
   ]
  },
  {
   "cell_type": "code",
   "execution_count": 6,
   "metadata": {},
   "outputs": [
    {
     "name": "stdout",
     "output_type": "stream",
     "text": [
      "Astrologer\n",
      "a\n",
      "fg\n"
     ]
    }
   ],
   "source": [
    "a = [\"Astrologer\", \"a\", \"fg\",\"1\",89,5]\n",
    "for i in a:\n",
    "    if type(i)==str:\n",
    "        if i.isalpha():\n",
    "            print(i)\n",
    "    "
   ]
  },
  {
   "cell_type": "code",
   "execution_count": 7,
   "metadata": {},
   "outputs": [
    {
     "data": {
      "text/plain": [
       "12"
      ]
     },
     "execution_count": 7,
     "metadata": {},
     "output_type": "execute_result"
    }
   ],
   "source": [
    "a=5\n",
    "b=7\n",
    "a+b"
   ]
  },
  {
   "cell_type": "code",
   "execution_count": 8,
   "metadata": {},
   "outputs": [],
   "source": [
    "import re"
   ]
  },
  {
   "cell_type": "raw",
   "metadata": {},
   "source": [
    "re.findall(),re.search(),re.match(),re.group()"
   ]
  },
  {
   "cell_type": "code",
   "execution_count": 10,
   "metadata": {},
   "outputs": [
    {
     "name": "stdout",
     "output_type": "stream",
     "text": [
      "<re.Match object; span=(7, 10), match='ien'>\n"
     ]
    }
   ],
   "source": [
    "a= \"Data Science\"\n",
    "print(re.search(\"ien\",a))"
   ]
  },
  {
   "cell_type": "code",
   "execution_count": 11,
   "metadata": {},
   "outputs": [
    {
     "name": "stdout",
     "output_type": "stream",
     "text": [
      "None\n"
     ]
    }
   ],
   "source": [
    "a= \"Data Science\"\n",
    "print(re.search(\"iend\",a))"
   ]
  },
  {
   "cell_type": "code",
   "execution_count": 14,
   "metadata": {},
   "outputs": [
    {
     "name": "stdout",
     "output_type": "stream",
     "text": [
      "<re.Match object; span=(0, 1), match='D'>\n"
     ]
    },
    {
     "data": {
      "text/plain": [
       "['D',\n",
       " 'a',\n",
       " 't',\n",
       " 'a',\n",
       " 'S',\n",
       " 'c',\n",
       " 'i',\n",
       " 'e',\n",
       " 'n',\n",
       " 'c',\n",
       " 'e',\n",
       " 'i',\n",
       " 's',\n",
       " 'm',\n",
       " 'y',\n",
       " 'f',\n",
       " 'a',\n",
       " 'v',\n",
       " 'o',\n",
       " 'r',\n",
       " 'i',\n",
       " 't',\n",
       " 'e',\n",
       " 't',\n",
       " 'o',\n",
       " 'p',\n",
       " 'i',\n",
       " 'c']"
      ]
     },
     "execution_count": 14,
     "metadata": {},
     "output_type": "execute_result"
    }
   ],
   "source": [
    "a= \"Data Science is my favorite topic.\"\n",
    "print(re.search(\"[A-Za-z]\",a))\n",
    "re.findall(\"[A-Za-z]\",a)"
   ]
  },
  {
   "cell_type": "code",
   "execution_count": 15,
   "metadata": {},
   "outputs": [
    {
     "data": {
      "text/plain": [
       "True"
      ]
     },
     "execution_count": 15,
     "metadata": {},
     "output_type": "execute_result"
    }
   ],
   "source": [
    "a = \"education, falsification,ramification\"\n",
    "\"cat\" in a"
   ]
  },
  {
   "cell_type": "code",
   "execution_count": 19,
   "metadata": {},
   "outputs": [
    {
     "name": "stdout",
     "output_type": "stream",
     "text": [
      "None\n"
     ]
    }
   ],
   "source": [
    "print(re.search(\"cat \",a))"
   ]
  },
  {
   "cell_type": "code",
   "execution_count": 21,
   "metadata": {},
   "outputs": [
    {
     "name": "stdout",
     "output_type": "stream",
     "text": [
      "<re.Match object; span=(3, 6), match='cat'>\n"
     ]
    }
   ],
   "source": [
    "print(re.search(\".at\",a))"
   ]
  },
  {
   "cell_type": "raw",
   "metadata": {},
   "source": [
    "find all 3 letter words which contains \"at\" at the end position"
   ]
  },
  {
   "cell_type": "code",
   "execution_count": 30,
   "metadata": {},
   "outputs": [
    {
     "name": "stdout",
     "output_type": "stream",
     "text": [
      "['cat']\n",
      "['rat']\n",
      "[]\n",
      "['sat']\n",
      "['3at']\n",
      "['@at']\n",
      "['aat']\n"
     ]
    }
   ],
   "source": [
    "a = [\"cat\",\"rat\",\"at\",\"asat\",\"3at\",\"@at\",\"aatt\"]\n",
    "for i in a:\n",
    "    print(re.findall(\".at\",i))"
   ]
  },
  {
   "cell_type": "code",
   "execution_count": 31,
   "metadata": {},
   "outputs": [
    {
     "name": "stdout",
     "output_type": "stream",
     "text": [
      "['cat']\n",
      "['rat']\n",
      "[]\n",
      "['sat']\n",
      "[]\n",
      "[]\n",
      "['aat']\n"
     ]
    }
   ],
   "source": [
    "a = [\"cat\",\"rat\",\"at\",\"asat\",\"3at\",\"@at\",\"aatt\"]\n",
    "for i in a:\n",
    "    print(re.findall(\"[A-Za-z]at\",i))"
   ]
  },
  {
   "cell_type": "code",
   "execution_count": 35,
   "metadata": {},
   "outputs": [
    {
     "name": "stdout",
     "output_type": "stream",
     "text": [
      "['cat']\n",
      "['rat']\n",
      "[]\n",
      "[]\n",
      "[]\n",
      "[]\n",
      "['aat']\n"
     ]
    }
   ],
   "source": [
    "a = [\"cat\",\"rat\",\"at\",\"asat\",\"3at\",\"@at\",\"aatt\"]\n",
    "for i in a:\n",
    "    print(re.findall(r\"^[A-Za-z]at\",i))"
   ]
  },
  {
   "cell_type": "code",
   "execution_count": 34,
   "metadata": {},
   "outputs": [
    {
     "name": "stdout",
     "output_type": "stream",
     "text": [
      "['cat']\n",
      "['rat']\n",
      "[]\n",
      "[]\n",
      "[]\n",
      "[]\n",
      "[]\n"
     ]
    }
   ],
   "source": [
    "a = [\"cat\",\"rat\",\"at\",\"asat\",\"3at\",\"@at\",\"aatt\"]\n",
    "for i in a:\n",
    "    print(re.findall(r\"^[A-Za-z]at$\",i))"
   ]
  },
  {
   "cell_type": "code",
   "execution_count": 56,
   "metadata": {},
   "outputs": [
    {
     "name": "stdout",
     "output_type": "stream",
     "text": [
      "Jack Neu 555-7666\n",
      "Jeb Neu 555-5543\n",
      "Jennifer Neu 555-3652\n"
     ]
    }
   ],
   "source": [
    "#important\n",
    "\n",
    "from urllib.request import urlopen\n",
    "\n",
    "with urlopen(\"https://www.python-course.eu/simpsons_phone_book.txt\") as f:\n",
    "    for i in f:\n",
    "        i = i.decode('utf-8').rstrip()\n",
    "        \n",
    "        if re.search(r\"^J[A-Za-z]* Neu\",i):\n",
    "            print(i)\n",
    "        \n",
    "            "
   ]
  },
  {
   "cell_type": "code",
   "execution_count": 62,
   "metadata": {},
   "outputs": [
    {
     "name": "stdout",
     "output_type": "stream",
     "text": [
      "<re.Match object; span=(0, 3), match='cat'>\n",
      "<re.Match object; span=(0, 4), match='arat'>\n",
      "<re.Match object; span=(0, 4), match='vrat'>\n",
      "<re.Match object; span=(0, 4), match='crat'>\n",
      "<re.Match object; span=(0, 3), match='sat'>\n",
      "<re.Match object; span=(1, 2), match='t'>\n"
     ]
    }
   ],
   "source": [
    "# repeat * and + and {}\n",
    "a = [\"cat\", \"arat\", \"vrat\",\"crat\",\"sat\",\"3t\"]\n",
    "for i in a:\n",
    "    print(re.search(\"[a-z]*t$\",i))"
   ]
  },
  {
   "cell_type": "code",
   "execution_count": 64,
   "metadata": {},
   "outputs": [
    {
     "name": "stdout",
     "output_type": "stream",
     "text": [
      "<re.Match object; span=(0, 3), match='cat'>\n",
      "<re.Match object; span=(0, 4), match='arat'>\n",
      "<re.Match object; span=(0, 4), match='vrat'>\n",
      "<re.Match object; span=(0, 4), match='crat'>\n",
      "<re.Match object; span=(0, 3), match='sat'>\n",
      "None\n"
     ]
    }
   ],
   "source": [
    "# repeat * and + and {}\n",
    "a = [\"cat\", \"arat\", \"vrat\",\"crat\",\"sat\",\"3t\"]\n",
    "for i in a:\n",
    "    print(re.search(\"[a-z]+t$\",i))"
   ]
  },
  {
   "cell_type": "code",
   "execution_count": 67,
   "metadata": {},
   "outputs": [
    {
     "name": "stdout",
     "output_type": "stream",
     "text": [
      "<re.Match object; span=(0, 3), match='cat'>\n",
      "<re.Match object; span=(1, 4), match='rat'>\n",
      "<re.Match object; span=(1, 4), match='rat'>\n",
      "<re.Match object; span=(1, 4), match='rat'>\n",
      "<re.Match object; span=(0, 3), match='sat'>\n",
      "None\n"
     ]
    }
   ],
   "source": [
    "# repeat * and + and {}\n",
    "a = [\"cat\", \"arat\", \"vrat\",\"crat\",\"sat\",\"3t\"]\n",
    "for i in a:\n",
    "    print(re.search(\"[a-z]{2}t$\",i))"
   ]
  },
  {
   "cell_type": "code",
   "execution_count": 57,
   "metadata": {},
   "outputs": [
    {
     "data": {
      "text/plain": [
       "False"
      ]
     },
     "execution_count": 57,
     "metadata": {},
     "output_type": "execute_result"
    }
   ],
   "source": [
    "a = \"Feb 2021\"\n",
    "b = \"February 2021\"\n",
    "\"Febraury\" in a"
   ]
  },
  {
   "cell_type": "code",
   "execution_count": 58,
   "metadata": {},
   "outputs": [
    {
     "data": {
      "text/plain": [
       "<re.Match object; span=(0, 3), match='Feb'>"
      ]
     },
     "execution_count": 58,
     "metadata": {},
     "output_type": "execute_result"
    }
   ],
   "source": [
    "#?\n",
    "re.search(\"Feb(ruary)?\",a)"
   ]
  },
  {
   "cell_type": "code",
   "execution_count": 81,
   "metadata": {},
   "outputs": [
    {
     "data": {
      "text/plain": [
       "'5000'"
      ]
     },
     "execution_count": 81,
     "metadata": {},
     "output_type": "execute_result"
    }
   ],
   "source": [
    "#grouping\n",
    "\n",
    "a = \"My name is Alexa.I cost 5000 Bucks only\"\n",
    "m = re.search(\"[0-9]{1,4}\",a)\n",
    "m.group()"
   ]
  },
  {
   "cell_type": "code",
   "execution_count": 114,
   "metadata": {},
   "outputs": [
    {
     "name": "stdout",
     "output_type": "stream",
     "text": [
      "Alexa.I cost 5010 Alexa.I cost 5010 Alexa .I cost  5010\n",
      "Alexa : 5010\n"
     ]
    }
   ],
   "source": [
    "#grouping\n",
    "\n",
    "a = \"My name is Alexa.I cost 5010 Bucks only\"\n",
    "m = re.search(\"(A[a-z]*)(.*)(5[0-9]*)\",a)\n",
    "print(m.group(),m.group(0),m.group(1),m.group(2), m.group(3))\n",
    "print(m.group(1),\":\", m.group(3))"
   ]
  },
  {
   "cell_type": "code",
   "execution_count": null,
   "metadata": {},
   "outputs": [],
   "source": []
  }
 ],
 "metadata": {
  "kernelspec": {
   "display_name": "Python 3",
   "language": "python",
   "name": "python3"
  },
  "language_info": {
   "codemirror_mode": {
    "name": "ipython",
    "version": 3
   },
   "file_extension": ".py",
   "mimetype": "text/x-python",
   "name": "python",
   "nbconvert_exporter": "python",
   "pygments_lexer": "ipython3",
   "version": "3.8.5"
  }
 },
 "nbformat": 4,
 "nbformat_minor": 4
}
