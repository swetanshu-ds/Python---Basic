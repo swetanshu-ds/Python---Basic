{
 "cells": [
  {
   "cell_type": "code",
   "execution_count": 1,
   "id": "28dabe04",
   "metadata": {},
   "outputs": [],
   "source": [
    "# Problem 1\n",
    "# Fill in the Line class methods to accept coordinates as a pair of tuples and return the slope and distance of the line."
   ]
  },
  {
   "cell_type": "code",
   "execution_count": 35,
   "id": "ade8f7a8",
   "metadata": {},
   "outputs": [],
   "source": [
    "class Line():\n",
    "    \n",
    "    def __init__(self,coor1,coor2):\n",
    "        self.coor1=coor1\n",
    "        self.coor2=coor2\n",
    "        \n",
    "    def distance(self):\n",
    "        a,b=self.coor1\n",
    "        c,d=self.coor2\n",
    "        return ((a-c)**2 +(b-d)**2)**0.5\n",
    "    \n",
    "    def slope(self):\n",
    "        a,b=self.coor1\n",
    "        c,d=self.coor2\n",
    "        return (d-b)/(c-a)"
   ]
  },
  {
   "cell_type": "code",
   "execution_count": 36,
   "id": "706e535f",
   "metadata": {},
   "outputs": [],
   "source": [
    "co1=(3,2)\n",
    "co2=(8,10)\n",
    "li=Line(co1,co2)"
   ]
  },
  {
   "cell_type": "code",
   "execution_count": 37,
   "id": "de707c2a",
   "metadata": {},
   "outputs": [
    {
     "data": {
      "text/plain": [
       "9.433981132056603"
      ]
     },
     "execution_count": 37,
     "metadata": {},
     "output_type": "execute_result"
    }
   ],
   "source": [
    "li.distance()"
   ]
  },
  {
   "cell_type": "code",
   "execution_count": 21,
   "id": "918c8765",
   "metadata": {},
   "outputs": [
    {
     "data": {
      "text/plain": [
       "1.6"
      ]
     },
     "execution_count": 21,
     "metadata": {},
     "output_type": "execute_result"
    }
   ],
   "source": [
    "li.slope()"
   ]
  },
  {
   "cell_type": "code",
   "execution_count": 22,
   "id": "4c637878",
   "metadata": {},
   "outputs": [],
   "source": [
    "# Problem 2\n",
    "# Fill in the class"
   ]
  },
  {
   "cell_type": "code",
   "execution_count": 28,
   "id": "60eb0a97",
   "metadata": {},
   "outputs": [],
   "source": [
    "class Cylinder():\n",
    "    pi=3.14\n",
    "    def __init__(self,height,radius):\n",
    "        self.height=height\n",
    "        self.radius=radius\n",
    "    def volume(self):\n",
    "        return self.pi*(self.radius*self.radius)*self.height\n",
    "    def surface_area(self):\n",
    "        return (2*self.pi*self.radius*self.height)+(2*self.pi*(self.radius*self.radius))"
   ]
  },
  {
   "cell_type": "code",
   "execution_count": 29,
   "id": "67e27a97",
   "metadata": {},
   "outputs": [],
   "source": [
    "c=Cylinder(2,3)"
   ]
  },
  {
   "cell_type": "code",
   "execution_count": 30,
   "id": "3c38b673",
   "metadata": {},
   "outputs": [
    {
     "data": {
      "text/plain": [
       "56.52"
      ]
     },
     "execution_count": 30,
     "metadata": {},
     "output_type": "execute_result"
    }
   ],
   "source": [
    "c.volume()"
   ]
  },
  {
   "cell_type": "code",
   "execution_count": 31,
   "id": "3a5342bb",
   "metadata": {},
   "outputs": [
    {
     "data": {
      "text/plain": [
       "94.2"
      ]
     },
     "execution_count": 31,
     "metadata": {},
     "output_type": "execute_result"
    }
   ],
   "source": [
    "c.surface_area()"
   ]
  },
  {
   "cell_type": "code",
   "execution_count": null,
   "id": "3d8eb8fa",
   "metadata": {},
   "outputs": [],
   "source": []
  }
 ],
 "metadata": {
  "kernelspec": {
   "display_name": "Python 3",
   "language": "python",
   "name": "python3"
  },
  "language_info": {
   "codemirror_mode": {
    "name": "ipython",
    "version": 3
   },
   "file_extension": ".py",
   "mimetype": "text/x-python",
   "name": "python",
   "nbconvert_exporter": "python",
   "pygments_lexer": "ipython3",
   "version": "3.8.8"
  }
 },
 "nbformat": 4,
 "nbformat_minor": 5
}
