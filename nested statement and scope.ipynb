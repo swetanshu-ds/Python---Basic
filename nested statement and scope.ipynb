{
 "cells": [
  {
   "cell_type": "code",
   "execution_count": 4,
   "id": "97cba407",
   "metadata": {},
   "outputs": [],
   "source": [
    "x=25\n",
    "def printer():\n",
    "    x=50\n",
    "    return x"
   ]
  },
  {
   "cell_type": "code",
   "execution_count": 5,
   "id": "e419020c",
   "metadata": {},
   "outputs": [
    {
     "name": "stdout",
     "output_type": "stream",
     "text": [
      "25\n"
     ]
    }
   ],
   "source": [
    "print(x)"
   ]
  },
  {
   "cell_type": "code",
   "execution_count": 6,
   "id": "d53d2642",
   "metadata": {},
   "outputs": [
    {
     "name": "stdout",
     "output_type": "stream",
     "text": [
      "50\n"
     ]
    }
   ],
   "source": [
    "print(printer())"
   ]
  },
  {
   "cell_type": "code",
   "execution_count": 7,
   "id": "5d6b2199",
   "metadata": {},
   "outputs": [],
   "source": [
    "# lambda num:num**2"
   ]
  },
  {
   "cell_type": "code",
   "execution_count": 14,
   "id": "c93ad566",
   "metadata": {},
   "outputs": [],
   "source": [
    "name ='THIS IS A GLOBAL STRING'\n",
    "def greet():\n",
    "    name =\"sammy\"\n",
    "    def hello():\n",
    "        print(\"hello \"+ name)\n",
    "    hello()\n",
    "  "
   ]
  },
  {
   "cell_type": "code",
   "execution_count": 15,
   "id": "9373283f",
   "metadata": {},
   "outputs": [
    {
     "name": "stdout",
     "output_type": "stream",
     "text": [
      "hello sammy\n"
     ]
    }
   ],
   "source": [
    "greet()  "
   ]
  },
  {
   "cell_type": "code",
   "execution_count": 16,
   "id": "57ab09cd",
   "metadata": {},
   "outputs": [],
   "source": [
    "name ='THIS IS A GLOBAL STRING'\n",
    "def greet():                               ####  global rule\n",
    "    # name =\"sammy\"\n",
    "    def hello():\n",
    "        print(\"hello \"+ name)\n",
    "    hello()"
   ]
  },
  {
   "cell_type": "code",
   "execution_count": 17,
   "id": "98e4712a",
   "metadata": {},
   "outputs": [
    {
     "name": "stdout",
     "output_type": "stream",
     "text": [
      "hello THIS IS A GLOBAL STRING\n"
     ]
    }
   ],
   "source": [
    "greet()"
   ]
  },
  {
   "cell_type": "code",
   "execution_count": 18,
   "id": "5f7b4797",
   "metadata": {},
   "outputs": [],
   "source": [
    "#  GLOBAL\n",
    "name ='THIS IS A GLOBAL STRING'\n",
    "def greet():\n",
    "    #ENCLOSING\n",
    "    \n",
    "    name =\"sammy\"\n",
    "    def hello():\n",
    "        # LOCAL\n",
    "        name=\"I m local\"\n",
    "        print(\"hello \"+ name)\n",
    "    hello()"
   ]
  },
  {
   "cell_type": "code",
   "execution_count": 19,
   "id": "0c0e77e1",
   "metadata": {},
   "outputs": [
    {
     "name": "stdout",
     "output_type": "stream",
     "text": [
      "hello I m local\n"
     ]
    }
   ],
   "source": [
    "greet()"
   ]
  },
  {
   "cell_type": "code",
   "execution_count": 24,
   "id": "028938db",
   "metadata": {},
   "outputs": [],
   "source": [
    "x=50\n",
    "def func(x):\n",
    "    print(f'X is {x}')"
   ]
  },
  {
   "cell_type": "code",
   "execution_count": 25,
   "id": "ee38082b",
   "metadata": {},
   "outputs": [
    {
     "name": "stdout",
     "output_type": "stream",
     "text": [
      "X is 50\n"
     ]
    }
   ],
   "source": [
    "func(x)"
   ]
  },
  {
   "cell_type": "code",
   "execution_count": 26,
   "id": "2d9a3daf",
   "metadata": {},
   "outputs": [],
   "source": [
    "x=50\n",
    "def func(x):\n",
    "    print(f'X is {x}')\n",
    "    # local reassignment\n",
    "    x=200\n",
    "    print(f'I just locally changed x to {x}')"
   ]
  },
  {
   "cell_type": "code",
   "execution_count": 27,
   "id": "bd1acd9f",
   "metadata": {},
   "outputs": [
    {
     "name": "stdout",
     "output_type": "stream",
     "text": [
      "X is 50\n",
      "I just locally changed x to 200\n"
     ]
    }
   ],
   "source": [
    "func(x)"
   ]
  },
  {
   "cell_type": "code",
   "execution_count": 32,
   "id": "0c80416a",
   "metadata": {},
   "outputs": [],
   "source": [
    "x=50\n",
    "def func():\n",
    "    global x\n",
    "    print(f'X is {x}')\n",
    "    # local reassignment on a global varible\n",
    "    x='new value'\n",
    "    print(f'I just locally changed global x to {x}')"
   ]
  },
  {
   "cell_type": "code",
   "execution_count": 33,
   "id": "4b3e249b",
   "metadata": {},
   "outputs": [
    {
     "name": "stdout",
     "output_type": "stream",
     "text": [
      "50\n"
     ]
    }
   ],
   "source": [
    "print(x)"
   ]
  },
  {
   "cell_type": "code",
   "execution_count": 35,
   "id": "944347e8",
   "metadata": {},
   "outputs": [
    {
     "name": "stdout",
     "output_type": "stream",
     "text": [
      "X is 50\n",
      "I just locally changed global x to new value\n"
     ]
    }
   ],
   "source": [
    "func()"
   ]
  },
  {
   "cell_type": "code",
   "execution_count": 36,
   "id": "36f25109",
   "metadata": {},
   "outputs": [
    {
     "name": "stdout",
     "output_type": "stream",
     "text": [
      "new value\n"
     ]
    }
   ],
   "source": [
    "print(x)"
   ]
  },
  {
   "cell_type": "code",
   "execution_count": null,
   "id": "a78c1b49",
   "metadata": {},
   "outputs": [],
   "source": []
  }
 ],
 "metadata": {
  "kernelspec": {
   "display_name": "Python 3",
   "language": "python",
   "name": "python3"
  },
  "language_info": {
   "codemirror_mode": {
    "name": "ipython",
    "version": 3
   },
   "file_extension": ".py",
   "mimetype": "text/x-python",
   "name": "python",
   "nbconvert_exporter": "python",
   "pygments_lexer": "ipython3",
   "version": "3.8.8"
  }
 },
 "nbformat": 4,
 "nbformat_minor": 5
}
