{
 "cells": [
  {
   "cell_type": "code",
   "execution_count": null,
   "id": "6e285ef2",
   "metadata": {},
   "outputs": [],
   "source": [
    "# LESSER OF TWO EVENS: Write a function that returns the lesser of two given numbers \n",
    "#  if both numbers are even, but returns the greater if one or both numbers are odd\n",
    "# lesser_of_two_evens(2,4) --> 2\n",
    "# lesser_of_two_evens(2,5) --> 5"
   ]
  },
  {
   "cell_type": "code",
   "execution_count": null,
   "id": "1e907ec1",
   "metadata": {},
   "outputs": [],
   "source": [
    "def lesser_of_two_Evens(a,b):\n",
    "    if a%2==0 and b%2==0:\n",
    "        return min(a,b)\n",
    "     \n",
    "    elif a%2!=0 or b%2!=0:\n",
    "        return max(a,b)"
   ]
  },
  {
   "cell_type": "code",
   "execution_count": null,
   "id": "d0dec056",
   "metadata": {},
   "outputs": [],
   "source": [
    "lesser_of_two_Evens(40,5)"
   ]
  },
  {
   "cell_type": "code",
   "execution_count": null,
   "id": "d1a4a02d",
   "metadata": {},
   "outputs": [],
   "source": [
    "# ANIMAL CRACKERS: Write a function takes a two-word string and returns True if both words begin with same letter\n",
    "# animal_crackers('Levelheaded Llama') --> True\n",
    "# animal_crackers('Crazy Kangaroo') --> False"
   ]
  },
  {
   "cell_type": "code",
   "execution_count": null,
   "id": "a4e1aaf4",
   "metadata": {},
   "outputs": [],
   "source": [
    "def two_word_string(a):\n",
    "        a=a.split()\n",
    "        if a[0][0]==a[1][0]:\n",
    "            return True\n",
    "        else:\n",
    "            return False"
   ]
  },
  {
   "cell_type": "code",
   "execution_count": null,
   "id": "db5a37f0",
   "metadata": {},
   "outputs": [],
   "source": [
    "two_word_string(\"swetanshu sandey\")"
   ]
  },
  {
   "cell_type": "code",
   "execution_count": null,
   "id": "a2985b2d",
   "metadata": {},
   "outputs": [],
   "source": [
    "# MAKES TWENTY: Given two integers, return True if the sum of the integers is 20 or if one of the integers is 20.\n",
    "#  If not, return False\n",
    "# makes_twenty(20,10) --> True\n",
    "# makes_twenty(12,8) --> True\n",
    "# makes_twenty(2,3) --> False"
   ]
  },
  {
   "cell_type": "code",
   "execution_count": null,
   "id": "8a90172a",
   "metadata": {},
   "outputs": [],
   "source": [
    "def makes_twenty(a,b):\n",
    "    if a==20 or b==20 or a+b==20:\n",
    "        return True\n",
    "    else:\n",
    "        return False"
   ]
  },
  {
   "cell_type": "code",
   "execution_count": null,
   "id": "9ea39cd9",
   "metadata": {},
   "outputs": [],
   "source": [
    "makes_twenty(20,10)"
   ]
  },
  {
   "cell_type": "code",
   "execution_count": null,
   "id": "187c358e",
   "metadata": {},
   "outputs": [],
   "source": [
    "makes_twenty(1,2)"
   ]
  },
  {
   "cell_type": "code",
   "execution_count": null,
   "id": "bd492d2c",
   "metadata": {},
   "outputs": [],
   "source": [
    "# OLD MACDONALD: Write a function that capitalizes the first and fourth letters of a name\n",
    "# old_macdonald('macdonald') --> MacDonald\n",
    "# Note: 'macdonald'.capitalize() returns 'Macdonald'"
   ]
  },
  {
   "cell_type": "code",
   "execution_count": null,
   "id": "f1c16de3",
   "metadata": {},
   "outputs": [],
   "source": [
    "def old_macdonald(name):\n",
    "    if len(name) >3:\n",
    "        return a[:1].capitalize() + a[1:3]+a[3:].capitalize()"
   ]
  },
  {
   "cell_type": "code",
   "execution_count": null,
   "id": "cdad6e3c",
   "metadata": {},
   "outputs": [],
   "source": [
    "old_macdonald(\"swetanshu\")"
   ]
  },
  {
   "cell_type": "code",
   "execution_count": null,
   "id": "c307aa84",
   "metadata": {},
   "outputs": [],
   "source": [
    "#  MASTER YODA: Given a sentence, return a sentence with the words reversed\n",
    "#  master_yoda('I am home') --> 'home am I'\n",
    "#  master_yoda('We are ready') --> 'ready are We'"
   ]
  },
  {
   "cell_type": "code",
   "execution_count": 44,
   "id": "8040764f",
   "metadata": {},
   "outputs": [],
   "source": [
    "def master_yoda(a):\n",
    "        a=a.split()\n",
    "        a=' '.join(a[::-1])\n",
    "        return a"
   ]
  },
  {
   "cell_type": "code",
   "execution_count": 45,
   "id": "dc0e11a1",
   "metadata": {},
   "outputs": [
    {
     "data": {
      "text/plain": [
       "'pandey swetanshu am I'"
      ]
     },
     "execution_count": 45,
     "metadata": {},
     "output_type": "execute_result"
    }
   ],
   "source": [
    "master_yoda(\"I am swetanshu pandey\")"
   ]
  },
  {
   "cell_type": "code",
   "execution_count": 46,
   "id": "4f6e7ccd",
   "metadata": {},
   "outputs": [],
   "source": [
    "# ALMOST THERE: Given an integer n, return True if n is within 10 of either 100 or 200\n",
    "# almost_there(90) --> True\n",
    "# almost_there(104) --> True\n",
    "# almost_there(150) --> False\n",
    "# almost_there(209) --> True"
   ]
  },
  {
   "cell_type": "code",
   "execution_count": 48,
   "id": "72688272",
   "metadata": {},
   "outputs": [],
   "source": [
    "def almost_there(n):\n",
    "    if 90<=n<=110:\n",
    "        return True\n",
    "    elif 190<=n<=210:\n",
    "        return True\n",
    "    else:\n",
    "        return False"
   ]
  },
  {
   "cell_type": "code",
   "execution_count": 50,
   "id": "3fced139",
   "metadata": {},
   "outputs": [
    {
     "data": {
      "text/plain": [
       "False"
      ]
     },
     "execution_count": 50,
     "metadata": {},
     "output_type": "execute_result"
    }
   ],
   "source": [
    "almost_there(298)"
   ]
  },
  {
   "cell_type": "code",
   "execution_count": 51,
   "id": "59547e1f",
   "metadata": {},
   "outputs": [
    {
     "data": {
      "text/plain": [
       "False"
      ]
     },
     "execution_count": 51,
     "metadata": {},
     "output_type": "execute_result"
    }
   ],
   "source": [
    "almost_there(188)"
   ]
  },
  {
   "cell_type": "code",
   "execution_count": 52,
   "id": "6442521c",
   "metadata": {},
   "outputs": [],
   "source": [
    "# LEVEL 2 PROBLEMS\n",
    "#  FIND 33:\n",
    "#  Given a list of ints, return True if the array contains a 3 next to a 3 somewhere.\n",
    "#  has_33([1, 3, 3]) → True\n",
    "#  has_33([1, 3, 1, 3]) → False\n",
    "#  has_33([3, 1, 3]) → False"
   ]
  },
  {
   "cell_type": "code",
   "execution_count": 116,
   "id": "37221ae7",
   "metadata": {},
   "outputs": [],
   "source": [
    "def has_33(l):\n",
    "    for i in range(len(l)-1):\n",
    "        if l[i:i+2]==[3,3]:\n",
    "            print(True)\n",
    "    return False"
   ]
  },
  {
   "cell_type": "code",
   "execution_count": 117,
   "id": "11c838cc",
   "metadata": {},
   "outputs": [
    {
     "name": "stdout",
     "output_type": "stream",
     "text": [
      "True\n"
     ]
    },
    {
     "data": {
      "text/plain": [
       "False"
      ]
     },
     "execution_count": 117,
     "metadata": {},
     "output_type": "execute_result"
    }
   ],
   "source": [
    "has_33([1,3,3])"
   ]
  },
  {
   "cell_type": "code",
   "execution_count": 118,
   "id": "8cd4ad65",
   "metadata": {},
   "outputs": [],
   "source": [
    "# PAPER DOLL: Given a string, return a string where for every character in the original there are three characters\n",
    "# paper_doll('Hello') --> 'HHHeeellllllooo'\n",
    "# paper_doll('Mississippi') --> 'MMMiiissssssiiippppppiii'"
   ]
  },
  {
   "cell_type": "code",
   "execution_count": 138,
   "id": "e0a45e22",
   "metadata": {},
   "outputs": [],
   "source": [
    "def paper_doll(s):\n",
    "    x=''\n",
    "    for i in range(len(s)):\n",
    "         x=x+s[i]*3\n",
    "    return x        "
   ]
  },
  {
   "cell_type": "code",
   "execution_count": 139,
   "id": "1e24faae",
   "metadata": {},
   "outputs": [
    {
     "data": {
      "text/plain": [
       "'ssswwweeetttaaannnssshhhuuu'"
      ]
     },
     "execution_count": 139,
     "metadata": {},
     "output_type": "execute_result"
    }
   ],
   "source": [
    "paper_doll(\"swetanshu\")"
   ]
  },
  {
   "cell_type": "code",
   "execution_count": 140,
   "id": "5c385f4f",
   "metadata": {},
   "outputs": [],
   "source": [
    "#  BLACKJACK: Given three integers between 1 and 11, if their sum is less than or equal to 21, \n",
    "#  return their sum. If their sum exceeds 21 and there's an eleven, reduce the total sum by 10. \n",
    "#   Finally, if the sum (even after adjustment) exceeds 21, return 'BUST'\n",
    "#   blackjack(5,6,7) --> 18\n",
    "#   blackjack(9,9,9) --> 'BUST'\n",
    "#   blackjack(9,9,11) --> 19"
   ]
  },
  {
   "cell_type": "code",
   "execution_count": 141,
   "id": "5a01b34d",
   "metadata": {},
   "outputs": [],
   "source": [
    "def blackjack(a,b,c):\n",
    "    if a+b+c==21 or a+b+c<21:\n",
    "        return a+b+c\n",
    "    elif a+b+c>21 and (a==11 or b==11 or c==11):\n",
    "        return a+b+c-10\n",
    "    elif a+b+c>21:\n",
    "        return \"BUST\""
   ]
  },
  {
   "cell_type": "code",
   "execution_count": 144,
   "id": "5c70ac83",
   "metadata": {},
   "outputs": [
    {
     "data": {
      "text/plain": [
       "'BUST'"
      ]
     },
     "execution_count": 144,
     "metadata": {},
     "output_type": "execute_result"
    }
   ],
   "source": [
    "blackjack(1,50,12)"
   ]
  },
  {
   "cell_type": "code",
   "execution_count": 146,
   "id": "2241ad18",
   "metadata": {},
   "outputs": [],
   "source": [
    "# SUMMER OF '69: Return the sum of the numbers in the array, except ignore sections of numbers starting with a 6 \n",
    "#  and extending to the next 9 (every 6 will be followed by at least one 9). Return 0 for no numbers.\n",
    "# summer_69([1, 3, 5]) --> 9\n",
    "# summer_69([4, 5, 6, 7, 8, 9]) --> 9\n",
    "# summer_69([2, 1, 6, 9, 11]) --> 14"
   ]
  },
  {
   "cell_type": "code",
   "execution_count": 1,
   "id": "0c458e07",
   "metadata": {},
   "outputs": [],
   "source": [
    "def summer_69(l):\n",
    "    s=0\n",
    "    for i in l:\n",
    "        if i<6:\n",
    "            s=s+i\n",
    "        elif i>9:\n",
    "            s=s+i\n",
    "    return s        "
   ]
  },
  {
   "cell_type": "code",
   "execution_count": 2,
   "id": "2718c0b2",
   "metadata": {},
   "outputs": [
    {
     "data": {
      "text/plain": [
       "6"
      ]
     },
     "execution_count": 2,
     "metadata": {},
     "output_type": "execute_result"
    }
   ],
   "source": [
    "summer_69([1,2,3,6,7,8,9])"
   ]
  },
  {
   "cell_type": "code",
   "execution_count": 4,
   "id": "84ff6680",
   "metadata": {},
   "outputs": [
    {
     "data": {
      "text/plain": [
       "14"
      ]
     },
     "execution_count": 4,
     "metadata": {},
     "output_type": "execute_result"
    }
   ],
   "source": [
    "summer_69([2, 1, 6, 9, 11])"
   ]
  },
  {
   "cell_type": "code",
   "execution_count": 8,
   "id": "c81c8ef8",
   "metadata": {},
   "outputs": [],
   "source": [
    "# SPY GAME: Write a function that takes in a list of integers and returns True if it contains 007 in order\n",
    "#  spy_game([1,2,4,0,0,7,5]) --> True\n",
    "#  spy_game([1,0,2,4,0,5,7]) --> True\n",
    "#  spy_game([1,7,2,0,4,5,0]) --> False"
   ]
  },
  {
   "cell_type": "code",
   "execution_count": 55,
   "id": "1e0aacd6",
   "metadata": {},
   "outputs": [],
   "source": [
    "def spy_game(l):\n",
    "    for i in range(len(l)-2):\n",
    "        if l[i]==0 and l[i+1]==0 and l[i+2]==7:\n",
    "            return True \n",
    "        elif l[i]==0 or l[i:]==0 or l[i:]==7:\n",
    "            return True\n",
    "        elif l[i]==7 or l[i:]==0 or l[i:]==0:\n",
    "            return False"
   ]
  },
  {
   "cell_type": "code",
   "execution_count": 57,
   "id": "6862eaf4",
   "metadata": {},
   "outputs": [
    {
     "data": {
      "text/plain": [
       "True"
      ]
     },
     "execution_count": 57,
     "metadata": {},
     "output_type": "execute_result"
    }
   ],
   "source": [
    "spy_game([1,2,4,0,0,7,5])"
   ]
  },
  {
   "cell_type": "code",
   "execution_count": 58,
   "id": "ba54223c",
   "metadata": {},
   "outputs": [
    {
     "data": {
      "text/plain": [
       "True"
      ]
     },
     "execution_count": 58,
     "metadata": {},
     "output_type": "execute_result"
    }
   ],
   "source": [
    "spy_game([1,0,2,4,0,5,7])"
   ]
  },
  {
   "cell_type": "code",
   "execution_count": 61,
   "id": "5968371d",
   "metadata": {},
   "outputs": [
    {
     "data": {
      "text/plain": [
       "False"
      ]
     },
     "execution_count": 61,
     "metadata": {},
     "output_type": "execute_result"
    }
   ],
   "source": [
    "spy_game([1,7,2,0,4,5,0])"
   ]
  },
  {
   "cell_type": "code",
   "execution_count": 31,
   "id": "3c0015f6",
   "metadata": {},
   "outputs": [],
   "source": [
    "# COUNT PRIMES: Write a function that returns the number of prime numbers that exist up to and including a given number\n",
    "#  count_primes(100) --> 25"
   ]
  },
  {
   "cell_type": "code",
   "execution_count": 2,
   "id": "78866d2a",
   "metadata": {},
   "outputs": [],
   "source": [
    "def count_primes2(num):\n",
    "    primes = [2]\n",
    "    x = 3\n",
    "    if num < 2:\n",
    "        return 0\n",
    "    while x <= num:\n",
    "        for y in primes:  # use the primes list!\n",
    "            if x%y == 0:\n",
    "                x += 2\n",
    "                break\n",
    "        else:\n",
    "            primes.append(x)\n",
    "            x += 2\n",
    "    print(primes)\n",
    "    return len(primes)"
   ]
  },
  {
   "cell_type": "code",
   "execution_count": 3,
   "id": "dd56ed87",
   "metadata": {},
   "outputs": [
    {
     "name": "stdout",
     "output_type": "stream",
     "text": [
      "[2, 3, 5, 7, 11, 13, 17, 19, 23, 29, 31, 37, 41, 43, 47, 53, 59, 61, 67, 71, 73, 79, 83, 89, 97]\n"
     ]
    },
    {
     "data": {
      "text/plain": [
       "25"
      ]
     },
     "execution_count": 3,
     "metadata": {},
     "output_type": "execute_result"
    }
   ],
   "source": [
    "count_primes2(100)"
   ]
  },
  {
   "cell_type": "code",
   "execution_count": null,
   "id": "f072f917",
   "metadata": {},
   "outputs": [],
   "source": []
  }
 ],
 "metadata": {
  "kernelspec": {
   "display_name": "Python 3",
   "language": "python",
   "name": "python3"
  },
  "language_info": {
   "codemirror_mode": {
    "name": "ipython",
    "version": 3
   },
   "file_extension": ".py",
   "mimetype": "text/x-python",
   "name": "python",
   "nbconvert_exporter": "python",
   "pygments_lexer": "ipython3",
   "version": "3.8.8"
  }
 },
 "nbformat": 4,
 "nbformat_minor": 5
}
